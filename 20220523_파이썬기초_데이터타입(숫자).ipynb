{
 "cells": [
  {
   "cell_type": "markdown",
   "id": "9c3c5bbc",
   "metadata": {},
   "source": [
    "# 데이터 타입\n",
    "\n",
    "## > 숫자형\n",
    "- 종류\n",
    "    - 정수 : 0, 양수, 음수인 숫자\n",
    "    - 실수 : 소수점을 포함하는 숫자\n",
    "    - 8진수 : 0o 또는 00(왼쪽 숫자0, 오른쪽 숫자 알파벳 o)로 시작 : 0o34, 0o25\n",
    "    - 16진수 (0x로 시작) : 0x24, 0xFF"
   ]
  },
  {
   "cell_type": "markdown",
   "id": "f692fddf",
   "metadata": {},
   "source": [
    "### 정수형\n"
   ]
  },
  {
   "cell_type": "code",
   "execution_count": 2,
   "id": "38a43d1e",
   "metadata": {},
   "outputs": [],
   "source": [
    "# 양수, 음수, 0\n",
    "a = 10\n",
    "b = -20\n",
    "c = 0\n",
    " \n",
    "# ctrl + enter을 누르지 않으면 코드 실행이 안됌. "
   ]
  },
  {
   "cell_type": "code",
   "execution_count": 7,
   "id": "442a1864",
   "metadata": {},
   "outputs": [
    {
     "name": "stdout",
     "output_type": "stream",
     "text": [
      "Hello world\n",
      "<class 'int'> <class 'int'> <class 'int'>\n"
     ]
    }
   ],
   "source": [
    "# 정수 타입 : 타입(데이터종류)를 확인하는 내장함수 type()\n",
    "type(a)\n",
    "type(b)\n",
    "print(\"Hello world\")\n",
    "print(type(a), type(b), type(c));\n",
    "\n",
    "# 마지막 줄 하나만 콘솔에 찍어줌\n",
    "# ; 세미콜른은 찍어도 안찍어도 작동함(보통 안찍음)"
   ]
  },
  {
   "cell_type": "markdown",
   "id": "3c65acc8",
   "metadata": {},
   "source": [
    "# 실수형"
   ]
  },
  {
   "cell_type": "code",
   "execution_count": 9,
   "id": "84310d36",
   "metadata": {},
   "outputs": [],
   "source": [
    "# 양의 실수, 음의 실수 : float\n",
    "a = 1.3\n",
    "b = -2.4\n",
    "c = 0.0"
   ]
  },
  {
   "cell_type": "code",
   "execution_count": 10,
   "id": "04acef13",
   "metadata": {},
   "outputs": [
    {
     "name": "stdout",
     "output_type": "stream",
     "text": [
      "<class 'float'> <class 'float'> <class 'float'>\n"
     ]
    }
   ],
   "source": [
    "# 타입 확인\n",
    "print(type(a), type(b), type(c))\n",
    "\n",
    "# 실수로 a,b,c값을 수정해서 int형이 아닌 실수형으로 바뀜. (0과 0.0은 다른자료로 취급)"
   ]
  },
  {
   "cell_type": "markdown",
   "id": "3b4d078c",
   "metadata": {},
   "source": [
    "## > 연산자\n",
    "- 산술 : +,-,*,/,//(몫), %(나머지), ** (제곱) (# 정수나누기 정수는 실수로 나오는게 특징)\n",
    "- 비교 : ==(값이 같은지), !=(값이 다른지), <=, >=, <. >\n",
    "- 논리 : and, ar\n",
    "- 할당 : =, +=(누적합), -=(누적차), *=(누적곱), /=(몫만 남기기), %=(나머지만 남기기)"
   ]
  },
  {
   "cell_type": "markdown",
   "id": "024dcebf",
   "metadata": {},
   "source": [
    "### 1) 산술연산자 : 숫자를 계산하기 위한 문법 기호"
   ]
  },
  {
   "cell_type": "code",
   "execution_count": 14,
   "id": "db1d076a",
   "metadata": {},
   "outputs": [
    {
     "data": {
      "text/plain": [
       "13.4"
      ]
     },
     "execution_count": 14,
     "metadata": {},
     "output_type": "execute_result"
    }
   ],
   "source": [
    "# 더하기 : + \n",
    "10 + 3 # 정수 + 정수 => 정수로 출력\n",
    "13.3 + 2.4 # 실수 + 실수 => 실수\n",
    "10 + 3.4 # 정수 + 실수 => 실수"
   ]
  },
  {
   "cell_type": "code",
   "execution_count": 16,
   "id": "5a823e72",
   "metadata": {},
   "outputs": [
    {
     "data": {
      "text/plain": [
       "-4.7"
      ]
     },
     "execution_count": 16,
     "metadata": {},
     "output_type": "execute_result"
    }
   ],
   "source": [
    "# 빼기\n",
    "10 - 3\n",
    "3 - 7.7"
   ]
  },
  {
   "cell_type": "code",
   "execution_count": 18,
   "id": "fb2a046d",
   "metadata": {},
   "outputs": [
    {
     "data": {
      "text/plain": [
       "3.5"
      ]
     },
     "execution_count": 18,
     "metadata": {},
     "output_type": "execute_result"
    }
   ],
   "source": [
    "# 나누기 : /\n",
    "# 나누기 결과는 정수 / 정수 여도 실수로 간주됨 (다른 언어랑 차이점)\n",
    "3 / 3\n",
    "7 / 2"
   ]
  },
  {
   "cell_type": "code",
   "execution_count": 22,
   "id": "a2a94737",
   "metadata": {},
   "outputs": [
    {
     "data": {
      "text/plain": [
       "-5"
      ]
     },
     "execution_count": 22,
     "metadata": {},
     "output_type": "execute_result"
    }
   ],
   "source": [
    "# 곱하기 : * \n",
    "3 * 4\n",
    "-3 * 5\n",
    "(3 - 4) * 5"
   ]
  },
  {
   "cell_type": "code",
   "execution_count": 23,
   "id": "2ff75c94",
   "metadata": {},
   "outputs": [
    {
     "data": {
      "text/plain": [
       "-2"
      ]
     },
     "execution_count": 23,
     "metadata": {},
     "output_type": "execute_result"
    }
   ],
   "source": [
    "# 정수 몫만 반환 : //\n",
    "# 나눈셈의 결과값보다 작은 정수죽에 가장 큰 정수\n",
    "# 음수\n",
    "-5 //  4"
   ]
  },
  {
   "cell_type": "code",
   "execution_count": 24,
   "id": "29989b4e",
   "metadata": {},
   "outputs": [
    {
     "data": {
      "text/plain": [
       "1"
      ]
     },
     "execution_count": 24,
     "metadata": {},
     "output_type": "execute_result"
    }
   ],
   "source": [
    "# 양수\n",
    "4 // 3"
   ]
  },
  {
   "cell_type": "code",
   "execution_count": 25,
   "id": "7ab75b3e",
   "metadata": {},
   "outputs": [
    {
     "data": {
      "text/plain": [
       "3"
      ]
     },
     "execution_count": 25,
     "metadata": {},
     "output_type": "execute_result"
    }
   ],
   "source": [
    "# 정수 몫을 구하고 남은 나머지만 반환 : %\n",
    "3 % 4"
   ]
  },
  {
   "cell_type": "code",
   "execution_count": 27,
   "id": "f13b6e36",
   "metadata": {},
   "outputs": [
    {
     "data": {
      "text/plain": [
       "1.4142135623730951"
      ]
     },
     "execution_count": 27,
     "metadata": {},
     "output_type": "execute_result"
    }
   ],
   "source": [
    "# 지수 : **\n",
    "2 ** 3 # 2의 3승\n",
    "2 ** 0.5"
   ]
  },
  {
   "cell_type": "markdown",
   "id": "edd7afa0",
   "metadata": {},
   "source": [
    "### 2) 비교연산자 : 자료를 비교하기 위한 문법 기호\n",
    "    - 결과가 숫자가 아닌 bool type의 결과를 가진다\n",
    "    \n",
    "> #### bool type\n",
    "    - True : 0이 아닌 숫자, 참인 조건식 등\n",
    "    - False : 0, 거짓인 조건식 등\n",
    "- 값에 대한 비교 : ==,  !=\n",
    "- 크기에 대한 비교 : >, <, >=, <="
   ]
  },
  {
   "cell_type": "code",
   "execution_count": 31,
   "id": "6cc41b79",
   "metadata": {},
   "outputs": [
    {
     "data": {
      "text/plain": [
       "False"
      ]
     },
     "execution_count": 31,
     "metadata": {},
     "output_type": "execute_result"
    }
   ],
   "source": [
    "# 두 값이 같은지 비교 : ==\n",
    "# (결과) 두 값이 같으면 true, 두 값이 다르면 false\n",
    "0 == 0.0 \n",
    "type(0) == type(0.0)"
   ]
  },
  {
   "cell_type": "code",
   "execution_count": 32,
   "id": "1d506032",
   "metadata": {},
   "outputs": [
    {
     "data": {
      "text/plain": [
       "True"
      ]
     },
     "execution_count": 32,
     "metadata": {},
     "output_type": "execute_result"
    }
   ],
   "source": [
    "# 두 값이 다른지 비교 : !=\n",
    "# 두  가ㅣㅂㅅ이 다르면 True, 같으면 False\n",
    "type(0) != type(0.0)"
   ]
  },
  {
   "cell_type": "code",
   "execution_count": 33,
   "id": "8ff845d7",
   "metadata": {},
   "outputs": [
    {
     "data": {
      "text/plain": [
       "True"
      ]
     },
     "execution_count": 33,
     "metadata": {},
     "output_type": "execute_result"
    }
   ],
   "source": [
    "# 두 값의 크리글 비교 : >=. <=. <, >\n",
    "10>=3"
   ]
  },
  {
   "cell_type": "markdown",
   "id": "77164b6d",
   "metadata": {},
   "source": [
    "### 3) 논리연산자\n",
    "    - 여러 개의 조건식을 활용하기 위한 명령어\n",
    "    - bool type 결과 반환 : True, False"
   ]
  },
  {
   "cell_type": "code",
   "execution_count": 36,
   "id": "fe38f5d8",
   "metadata": {},
   "outputs": [
    {
     "data": {
      "text/plain": [
       "True"
      ]
     },
     "execution_count": 36,
     "metadata": {},
     "output_type": "execute_result"
    }
   ],
   "source": [
    "# and 연산자 : 조건식 1 and 조건식 2\n",
    "# 조건식 1과 조건식2가 모드 True라면 최종결과도 True\n",
    "# 둘 중 하나만 False여도 최종결과는 False\n",
    "# 둘 다 False라면 최종결과는 False\n",
    "10 < 12 # True\n",
    "0 > -3 #True'\n",
    "10 < 12 and 0 > -3"
   ]
  },
  {
   "cell_type": "code",
   "execution_count": 37,
   "id": "17640f1e",
   "metadata": {},
   "outputs": [
    {
     "data": {
      "text/plain": [
       "False"
      ]
     },
     "execution_count": 37,
     "metadata": {},
     "output_type": "execute_result"
    }
   ],
   "source": [
    "# 숫자 0은 False, 이외의 모든 숫자는 True\n",
    "# bool(자료) 는 자료의 참, 거짓을 판단해줍니다.\n",
    "bool(0)"
   ]
  },
  {
   "cell_type": "code",
   "execution_count": 38,
   "id": "7cb5fb7c",
   "metadata": {},
   "outputs": [
    {
     "data": {
      "text/plain": [
       "False"
      ]
     },
     "execution_count": 38,
     "metadata": {},
     "output_type": "execute_result"
    }
   ],
   "source": [
    "# 0이 False로 사용되는 예시\n",
    "bool(0 and 10 > 3) # 0->False, 10 > 3 -> True => and 연산자의 결과 : False"
   ]
  },
  {
   "cell_type": "code",
   "execution_count": 39,
   "id": "e0197d88",
   "metadata": {},
   "outputs": [
    {
     "data": {
      "text/plain": [
       "True"
      ]
     },
     "execution_count": 39,
     "metadata": {},
     "output_type": "execute_result"
    }
   ],
   "source": [
    "# or 연산자\n",
    "# 조건식 1 or 조건식2\n",
    "# 둘 중 하나만 True여도 결과는 True\n",
    "# 둘 다 False일 때 최종결과 False\n",
    "bool(0 or 10 > 3)"
   ]
  },
  {
   "cell_type": "markdown",
   "id": "d2f2fd50",
   "metadata": {},
   "source": [
    "##### 4) 할당연산자\n",
    "\n",
    "- 변수 할당\n",
    "- 누적 연산"
   ]
  },
  {
   "cell_type": "code",
   "execution_count": 41,
   "id": "b12d3c65",
   "metadata": {},
   "outputs": [],
   "source": [
    "# 변수명(왼쪽)에 변수값(오른쪽)을 할당/선언/저장/대입 : =\n",
    "X = 10"
   ]
  },
  {
   "cell_type": "code",
   "execution_count": 42,
   "id": "184b732d",
   "metadata": {},
   "outputs": [
    {
     "data": {
      "text/plain": [
       "10"
      ]
     },
     "execution_count": 42,
     "metadata": {},
     "output_type": "execute_result"
    }
   ],
   "source": [
    "# 숫자형의 누적합 +=\n",
    "# result라는 변수에 누적합을 저장하기\n",
    "result = 0\n",
    "#result에 x만큼 더해서 저장하기 위해 원래 사용하던 코드\n",
    "result += X # result + X\n",
    "result"
   ]
  },
  {
   "cell_type": "code",
   "execution_count": 43,
   "id": "65f0e1d3",
   "metadata": {},
   "outputs": [
    {
     "name": "stdout",
     "output_type": "stream",
     "text": [
      "55\n"
     ]
    }
   ],
   "source": [
    "# 1 ~ 10까지 누적합을 구해보세요 : 1+2+3+4+5+6+7+8+9+10\n",
    "result = 0\n",
    "# 반복문을 이용해 result변수에 1~10까지 누적해 더하는 코드\n",
    "for i in range(1,11):\n",
    "    result += i\n",
    "print(result)"
   ]
  },
  {
   "cell_type": "code",
   "execution_count": 44,
   "id": "4ccea7b1",
   "metadata": {},
   "outputs": [
    {
     "data": {
      "text/plain": [
       "54"
      ]
     },
     "execution_count": 44,
     "metadata": {},
     "output_type": "execute_result"
    }
   ],
   "source": [
    "# 숫자형의 누적 차\n",
    "result -= 1\n",
    "result"
   ]
  },
  {
   "cell_type": "code",
   "execution_count": 45,
   "id": "263bba93",
   "metadata": {},
   "outputs": [
    {
     "data": {
      "text/plain": [
       "108"
      ]
     },
     "execution_count": 45,
     "metadata": {},
     "output_type": "execute_result"
    }
   ],
   "source": [
    "# 누적 곱\n",
    "result *= 2\n",
    "result"
   ]
  },
  {
   "cell_type": "markdown",
   "id": "a1723dec",
   "metadata": {},
   "source": [
    "### 1. 홍길동의 시험 성적 평균을 구하세요\n",
    "         |   영어 80점    |    국어 72점     |    수학 90점    |    사회 66점    |\n",
    "* 변수를 사용해서 과목의 평균을 구해보세요\n",
    "* 출력 양식 : <br>\n",
    "총합 308 <br>\n",
    "평균 77"
   ]
  },
  {
   "cell_type": "markdown",
   "id": "ed6e7aa0",
   "metadata": {},
   "source": [
    "### 2. 반지름의 7인 원의 넓이를 구해주세요\n",
    "\n",
    "(참고) 원 넓이 = (반지름 ** 2) * 3.14\n",
    "\n",
    "- 반지름과 원 넓이는 모두 변수로 저장해줍니다.\n",
    "- 출력 양식<br>\n",
    "반지름 : 3\n",
    "원 넓이 : 27(소수점 없이 정수로 출력)"
   ]
  },
  {
   "cell_type": "markdown",
   "id": "a0343df9",
   "metadata": {},
   "source": [
    "### 3. 여러분들이 직접 임의의 변수에 원하는 숫자를 집어넣고 그 숫자의 제곱근과 세제곱 값을 출력해주세요."
   ]
  },
  {
   "cell_type": "code",
   "execution_count": null,
   "id": "3fa92af5",
   "metadata": {},
   "outputs": [],
   "source": []
  }
 ],
 "metadata": {
  "kernelspec": {
   "display_name": "Python 3 (ipykernel)",
   "language": "python",
   "name": "python3"
  },
  "language_info": {
   "codemirror_mode": {
    "name": "ipython",
    "version": 3
   },
   "file_extension": ".py",
   "mimetype": "text/x-python",
   "name": "python",
   "nbconvert_exporter": "python",
   "pygments_lexer": "ipython3",
   "version": "3.9.7"
  }
 },
 "nbformat": 4,
 "nbformat_minor": 5
}
