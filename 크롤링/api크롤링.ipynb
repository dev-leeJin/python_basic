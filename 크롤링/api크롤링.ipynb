{
 "cells": [
  {
   "cell_type": "code",
   "execution_count": 4,
   "id": "065135b0",
   "metadata": {},
   "outputs": [],
   "source": [
    "# 공공데이터포털 -> 교통사고 검색 -> 오픈API -> json형식으로 제공 선택(python에서 xml을 json으로 변환은 가능)\n",
    "# -> url -> \n",
    "\n",
    "# # 타겟 변경 영진위 https://www.kobis.or.kr/kobisopenapi/homepg/apiservice/searchServiceInfo.do"
   ]
  },
  {
   "cell_type": "markdown",
   "id": "48804fc1",
   "metadata": {},
   "source": [
    "# 영진위 \n",
    "\n",
    "http://kobis.or.kr/kobisopenapi/webservice/rest/boxoffice/searchDailyBoxOfficeList.json?key=f5eef3421c602c6cb7ea224104795888&targetDt=20120101\n",
    "<br>\n",
    "위 주소를 보면 파라미터로 <br>\n",
    "key와 targetDt가 있는걸 볼 수 있습니다.<br>\n",
    "<br>\n",
    "<br>\n",
    "여기서 key는 회원가입하면 발급해주는 개인 식별용 키입니다. <br>\n",
    "키를 발급해주는 이유는 일일 요청 횟수를 제한해서 서버 메모리를 절약하기 위함입니다. <br>\n",
    "<br><br>\n",
    "targetDt는 타겟 날짜로, 현재 이 api 요청 주소는 일일 박스오피스 입니다.  \n",
    "\n",
    "<br>\n",
    "<br>\n",
    "api 서버 접근시 파이썬에서는 보통 urllib.request를 활용합니다. "
   ]
  },
  {
   "cell_type": "code",
   "execution_count": 5,
   "id": "2741456a",
   "metadata": {},
   "outputs": [],
   "source": [
    "# 사이트에 자료 요청용 라이브러리 임포트\n",
    "import urllib.request\n",
    "# json데이터 핸들링용\n",
    "import json\n",
    "import xml"
   ]
  },
  {
   "cell_type": "code",
   "execution_count": 6,
   "id": "279bd371",
   "metadata": {},
   "outputs": [
    {
     "name": "stdout",
     "output_type": "stream",
     "text": [
      "http://kobis.or.kr/kobisopenapi/webservice/rest/boxoffice/searchDailyBoxOfficeList.json?key=f5eef3421c602c6cb7ea224104795888&targetDt=20120101\n"
     ]
    }
   ],
   "source": [
    "# 요청 주소의 파리미터를 다 분리해서 포매팅\n",
    "key = \"f5eef3421c602c6cb7ea224104795888\"\n",
    "target_dt = \"20120101\"\n",
    "request_url = \"http://kobis.or.kr/kobisopenapi/webservice/rest/\\\n",
    "boxoffice/searchDailyBoxOfficeList.json?key=%s&targetDt=%s\" % (key, target_dt)\n",
    "print(request_url)"
   ]
  },
  {
   "cell_type": "code",
   "execution_count": 7,
   "id": "9c723f16",
   "metadata": {},
   "outputs": [],
   "source": [
    "# 위에 세팅된 주소로 요청을 넣어보겠습니다.\n",
    "result = urllib.request.urlopen(request_url)"
   ]
  },
  {
   "cell_type": "code",
   "execution_count": 8,
   "id": "08986623",
   "metadata": {},
   "outputs": [
    {
     "data": {
      "text/plain": [
       "<http.client.HTTPResponse at 0x1eaacfcde20>"
      ]
     },
     "execution_count": 8,
     "metadata": {},
     "output_type": "execute_result"
    }
   ],
   "source": [
    "# 결과물은 http.client.httpresponse 객체로 주어집니다.\n",
    "result"
   ]
  },
  {
   "cell_type": "code",
   "execution_count": 9,
   "id": "c5b56bf5",
   "metadata": {},
   "outputs": [],
   "source": [
    "# 얻어진 데이터의 json만 뽑기위해 .read()를 사용합니다.\n",
    "json_raw = result.read()"
   ]
  },
  {
   "cell_type": "code",
   "execution_count": 10,
   "id": "9ea1fd93",
   "metadata": {
    "scrolled": true
   },
   "outputs": [
    {
     "name": "stdout",
     "output_type": "stream",
     "text": [
      "<class 'bytes'>\n"
     ]
    }
   ],
   "source": [
    "#byte 자료형임을 확인\n",
    "print(type(json_raw))"
   ]
  },
  {
   "cell_type": "code",
   "execution_count": 12,
   "id": "485c5300",
   "metadata": {},
   "outputs": [],
   "source": [
    "# 형식을 한글로 쓸 수 있는 utf-8형식으로 고쳐야 합니다. 변형 -> encode(), 복원 -> decode()\n",
    "# encode => 우리가 쓰는 문자를 컴퓨터가 쓰는 형태로 변환\n",
    "# decode => 컴퓨터가 쓰는 문자를 우리가 쓰는 형태로 변환\n",
    "json_utf8 = json_raw.decode(\"utf-8\")"
   ]
  },
  {
   "cell_type": "code",
   "execution_count": 14,
   "id": "48fbe1fd",
   "metadata": {},
   "outputs": [
    {
     "name": "stdout",
     "output_type": "stream",
     "text": [
      "{\"boxOfficeResult\":{\"boxofficeType\":\"일별 박스오피스\",\"showRange\":\"20120101~20120101\",\"dailyBoxOfficeList\":[{\"rnum\":\"1\",\"rank\":\"1\",\"rankInten\":\"0\",\"rankOldAndNew\":\"OLD\",\"movieCd\":\"20112207\",\"movieNm\":\"미션임파서블:고스트프로토콜\",\"openDt\":\"2011-12-15\",\"salesAmt\":\"2776060500\",\"salesShare\":\"36.3\",\"salesInten\":\"-415699000\",\"salesChange\":\"-13\",\"salesAcc\":\"40541108500\",\"audiCnt\":\"353274\",\"audiInten\":\"-60106\",\"audiChange\":\"-14.5\",\"audiAcc\":\"5328435\",\"scrnCnt\":\"697\",\"showCnt\":\"3223\"},{\"rnum\":\"2\",\"rank\":\"2\",\"rankInten\":\"1\",\"rankOldAndNew\":\"OLD\",\"movieCd\":\"20110295\",\"movieNm\":\"마이 웨이\",\"openDt\":\"2011-12-21\",\"salesAmt\":\"1189058500\",\"salesShare\":\"15.6\",\"salesInten\":\"-105894500\",\"salesChange\":\"-8.2\",\"salesAcc\":\"13002897500\",\"audiCnt\":\"153501\",\"audiInten\":\"-16465\",\"audiChange\":\"-9.7\",\"audiAcc\":\"1739543\",\"scrnCnt\":\"588\",\"showCnt\":\"2321\"},{\"rnum\":\"3\",\"rank\":\"3\",\"rankInten\":\"-1\",\"rankOldAndNew\":\"OLD\",\"movieCd\":\"20112621\",\"movieNm\":\"셜록홈즈 : 그림자 게임\",\"openDt\":\"2011-12-21\",\"salesAmt\":\"1176022500\",\"salesShare\":\"15.4\",\"salesInten\":\"-210328500\",\"salesChange\":\"-15.2\",\"salesAcc\":\"10678327500\",\"audiCnt\":\"153004\",\"audiInten\":\"-31283\",\"audiChange\":\"-17\",\"audiAcc\":\"1442861\",\"scrnCnt\":\"360\",\"showCnt\":\"1832\"},{\"rnum\":\"4\",\"rank\":\"4\",\"rankInten\":\"0\",\"rankOldAndNew\":\"OLD\",\"movieCd\":\"20113260\",\"movieNm\":\"퍼펙트 게임\",\"openDt\":\"2011-12-21\",\"salesAmt\":\"644532000\",\"salesShare\":\"8.4\",\"salesInten\":\"-75116500\",\"salesChange\":\"-10.4\",\"salesAcc\":\"6640940000\",\"audiCnt\":\"83644\",\"audiInten\":\"-12225\",\"audiChange\":\"-12.8\",\"audiAcc\":\"895416\",\"scrnCnt\":\"396\",\"showCnt\":\"1364\"},{\"rnum\":\"5\",\"rank\":\"5\",\"rankInten\":\"0\",\"rankOldAndNew\":\"OLD\",\"movieCd\":\"20113271\",\"movieNm\":\"프렌즈: 몬스터섬의비밀 \",\"openDt\":\"2011-12-29\",\"salesAmt\":\"436753500\",\"salesShare\":\"5.7\",\"salesInten\":\"-89051000\",\"salesChange\":\"-16.9\",\"salesAcc\":\"1523037000\",\"audiCnt\":\"55092\",\"audiInten\":\"-15568\",\"audiChange\":\"-22\",\"audiAcc\":\"202909\",\"scrnCnt\":\"290\",\"showCnt\":\"838\"},{\"rnum\":\"6\",\"rank\":\"6\",\"rankInten\":\"1\",\"rankOldAndNew\":\"OLD\",\"movieCd\":\"19940256\",\"movieNm\":\"라이온 킹\",\"openDt\":\"1994-07-02\",\"salesAmt\":\"507115500\",\"salesShare\":\"6.6\",\"salesInten\":\"-114593500\",\"salesChange\":\"-18.4\",\"salesAcc\":\"1841625000\",\"audiCnt\":\"45750\",\"audiInten\":\"-11699\",\"audiChange\":\"-20.4\",\"audiAcc\":\"171285\",\"scrnCnt\":\"244\",\"showCnt\":\"895\"},{\"rnum\":\"7\",\"rank\":\"7\",\"rankInten\":\"-1\",\"rankOldAndNew\":\"OLD\",\"movieCd\":\"20113381\",\"movieNm\":\"오싹한 연애\",\"openDt\":\"2011-12-01\",\"salesAmt\":\"344871000\",\"salesShare\":\"4.5\",\"salesInten\":\"-107005500\",\"salesChange\":\"-23.7\",\"salesAcc\":\"20634684500\",\"audiCnt\":\"45062\",\"audiInten\":\"-15926\",\"audiChange\":\"-26.1\",\"audiAcc\":\"2823060\",\"scrnCnt\":\"243\",\"showCnt\":\"839\"},{\"rnum\":\"8\",\"rank\":\"8\",\"rankInten\":\"0\",\"rankOldAndNew\":\"OLD\",\"movieCd\":\"20112709\",\"movieNm\":\"극장판 포켓몬스터 베스트 위시「비크티니와 백의 영웅 레시라무」\",\"openDt\":\"2011-12-22\",\"salesAmt\":\"167809500\",\"salesShare\":\"2.2\",\"salesInten\":\"-45900500\",\"salesChange\":\"-21.5\",\"salesAcc\":\"1897120000\",\"audiCnt\":\"24202\",\"audiInten\":\"-7756\",\"audiChange\":\"-24.3\",\"audiAcc\":\"285959\",\"scrnCnt\":\"186\",\"showCnt\":\"348\"},{\"rnum\":\"9\",\"rank\":\"9\",\"rankInten\":\"0\",\"rankOldAndNew\":\"OLD\",\"movieCd\":\"20113311\",\"movieNm\":\"앨빈과 슈퍼밴드3\",\"openDt\":\"2011-12-15\",\"salesAmt\":\"137030000\",\"salesShare\":\"1.8\",\"salesInten\":\"-35408000\",\"salesChange\":\"-20.5\",\"salesAcc\":\"3416675000\",\"audiCnt\":\"19729\",\"audiInten\":\"-6461\",\"audiChange\":\"-24.7\",\"audiAcc\":\"516289\",\"scrnCnt\":\"169\",\"showCnt\":\"359\"},{\"rnum\":\"10\",\"rank\":\"10\",\"rankInten\":\"0\",\"rankOldAndNew\":\"OLD\",\"movieCd\":\"20112708\",\"movieNm\":\"극장판 포켓몬스터 베스트 위시 「비크티니와 흑의 영웅 제크로무」\",\"openDt\":\"2011-12-22\",\"salesAmt\":\"125535500\",\"salesShare\":\"1.6\",\"salesInten\":\"-40756000\",\"salesChange\":\"-24.5\",\"salesAcc\":\"1595695000\",\"audiCnt\":\"17817\",\"audiInten\":\"-6554\",\"audiChange\":\"-26.9\",\"audiAcc\":\"235070\",\"scrnCnt\":\"175\",\"showCnt\":\"291\"}]}}\n"
     ]
    }
   ],
   "source": [
    "print(json_utf8) #한글로 바뀜"
   ]
  },
  {
   "cell_type": "code",
   "execution_count": 16,
   "id": "33932753",
   "metadata": {},
   "outputs": [
    {
     "data": {
      "text/plain": [
       "str"
      ]
     },
     "execution_count": 16,
     "metadata": {},
     "output_type": "execute_result"
    }
   ],
   "source": [
    "type(json_utf8) # 문자로 바뀜"
   ]
  },
  {
   "cell_type": "code",
   "execution_count": 17,
   "id": "e6f306c3",
   "metadata": {},
   "outputs": [
    {
     "data": {
      "text/plain": [
       "{'boxOfficeResult': {'boxofficeType': '일별 박스오피스',\n",
       "  'showRange': '20120101~20120101',\n",
       "  'dailyBoxOfficeList': [{'rnum': '1',\n",
       "    'rank': '1',\n",
       "    'rankInten': '0',\n",
       "    'rankOldAndNew': 'OLD',\n",
       "    'movieCd': '20112207',\n",
       "    'movieNm': '미션임파서블:고스트프로토콜',\n",
       "    'openDt': '2011-12-15',\n",
       "    'salesAmt': '2776060500',\n",
       "    'salesShare': '36.3',\n",
       "    'salesInten': '-415699000',\n",
       "    'salesChange': '-13',\n",
       "    'salesAcc': '40541108500',\n",
       "    'audiCnt': '353274',\n",
       "    'audiInten': '-60106',\n",
       "    'audiChange': '-14.5',\n",
       "    'audiAcc': '5328435',\n",
       "    'scrnCnt': '697',\n",
       "    'showCnt': '3223'},\n",
       "   {'rnum': '2',\n",
       "    'rank': '2',\n",
       "    'rankInten': '1',\n",
       "    'rankOldAndNew': 'OLD',\n",
       "    'movieCd': '20110295',\n",
       "    'movieNm': '마이 웨이',\n",
       "    'openDt': '2011-12-21',\n",
       "    'salesAmt': '1189058500',\n",
       "    'salesShare': '15.6',\n",
       "    'salesInten': '-105894500',\n",
       "    'salesChange': '-8.2',\n",
       "    'salesAcc': '13002897500',\n",
       "    'audiCnt': '153501',\n",
       "    'audiInten': '-16465',\n",
       "    'audiChange': '-9.7',\n",
       "    'audiAcc': '1739543',\n",
       "    'scrnCnt': '588',\n",
       "    'showCnt': '2321'},\n",
       "   {'rnum': '3',\n",
       "    'rank': '3',\n",
       "    'rankInten': '-1',\n",
       "    'rankOldAndNew': 'OLD',\n",
       "    'movieCd': '20112621',\n",
       "    'movieNm': '셜록홈즈 : 그림자 게임',\n",
       "    'openDt': '2011-12-21',\n",
       "    'salesAmt': '1176022500',\n",
       "    'salesShare': '15.4',\n",
       "    'salesInten': '-210328500',\n",
       "    'salesChange': '-15.2',\n",
       "    'salesAcc': '10678327500',\n",
       "    'audiCnt': '153004',\n",
       "    'audiInten': '-31283',\n",
       "    'audiChange': '-17',\n",
       "    'audiAcc': '1442861',\n",
       "    'scrnCnt': '360',\n",
       "    'showCnt': '1832'},\n",
       "   {'rnum': '4',\n",
       "    'rank': '4',\n",
       "    'rankInten': '0',\n",
       "    'rankOldAndNew': 'OLD',\n",
       "    'movieCd': '20113260',\n",
       "    'movieNm': '퍼펙트 게임',\n",
       "    'openDt': '2011-12-21',\n",
       "    'salesAmt': '644532000',\n",
       "    'salesShare': '8.4',\n",
       "    'salesInten': '-75116500',\n",
       "    'salesChange': '-10.4',\n",
       "    'salesAcc': '6640940000',\n",
       "    'audiCnt': '83644',\n",
       "    'audiInten': '-12225',\n",
       "    'audiChange': '-12.8',\n",
       "    'audiAcc': '895416',\n",
       "    'scrnCnt': '396',\n",
       "    'showCnt': '1364'},\n",
       "   {'rnum': '5',\n",
       "    'rank': '5',\n",
       "    'rankInten': '0',\n",
       "    'rankOldAndNew': 'OLD',\n",
       "    'movieCd': '20113271',\n",
       "    'movieNm': '프렌즈: 몬스터섬의비밀 ',\n",
       "    'openDt': '2011-12-29',\n",
       "    'salesAmt': '436753500',\n",
       "    'salesShare': '5.7',\n",
       "    'salesInten': '-89051000',\n",
       "    'salesChange': '-16.9',\n",
       "    'salesAcc': '1523037000',\n",
       "    'audiCnt': '55092',\n",
       "    'audiInten': '-15568',\n",
       "    'audiChange': '-22',\n",
       "    'audiAcc': '202909',\n",
       "    'scrnCnt': '290',\n",
       "    'showCnt': '838'},\n",
       "   {'rnum': '6',\n",
       "    'rank': '6',\n",
       "    'rankInten': '1',\n",
       "    'rankOldAndNew': 'OLD',\n",
       "    'movieCd': '19940256',\n",
       "    'movieNm': '라이온 킹',\n",
       "    'openDt': '1994-07-02',\n",
       "    'salesAmt': '507115500',\n",
       "    'salesShare': '6.6',\n",
       "    'salesInten': '-114593500',\n",
       "    'salesChange': '-18.4',\n",
       "    'salesAcc': '1841625000',\n",
       "    'audiCnt': '45750',\n",
       "    'audiInten': '-11699',\n",
       "    'audiChange': '-20.4',\n",
       "    'audiAcc': '171285',\n",
       "    'scrnCnt': '244',\n",
       "    'showCnt': '895'},\n",
       "   {'rnum': '7',\n",
       "    'rank': '7',\n",
       "    'rankInten': '-1',\n",
       "    'rankOldAndNew': 'OLD',\n",
       "    'movieCd': '20113381',\n",
       "    'movieNm': '오싹한 연애',\n",
       "    'openDt': '2011-12-01',\n",
       "    'salesAmt': '344871000',\n",
       "    'salesShare': '4.5',\n",
       "    'salesInten': '-107005500',\n",
       "    'salesChange': '-23.7',\n",
       "    'salesAcc': '20634684500',\n",
       "    'audiCnt': '45062',\n",
       "    'audiInten': '-15926',\n",
       "    'audiChange': '-26.1',\n",
       "    'audiAcc': '2823060',\n",
       "    'scrnCnt': '243',\n",
       "    'showCnt': '839'},\n",
       "   {'rnum': '8',\n",
       "    'rank': '8',\n",
       "    'rankInten': '0',\n",
       "    'rankOldAndNew': 'OLD',\n",
       "    'movieCd': '20112709',\n",
       "    'movieNm': '극장판 포켓몬스터 베스트 위시「비크티니와 백의 영웅 레시라무」',\n",
       "    'openDt': '2011-12-22',\n",
       "    'salesAmt': '167809500',\n",
       "    'salesShare': '2.2',\n",
       "    'salesInten': '-45900500',\n",
       "    'salesChange': '-21.5',\n",
       "    'salesAcc': '1897120000',\n",
       "    'audiCnt': '24202',\n",
       "    'audiInten': '-7756',\n",
       "    'audiChange': '-24.3',\n",
       "    'audiAcc': '285959',\n",
       "    'scrnCnt': '186',\n",
       "    'showCnt': '348'},\n",
       "   {'rnum': '9',\n",
       "    'rank': '9',\n",
       "    'rankInten': '0',\n",
       "    'rankOldAndNew': 'OLD',\n",
       "    'movieCd': '20113311',\n",
       "    'movieNm': '앨빈과 슈퍼밴드3',\n",
       "    'openDt': '2011-12-15',\n",
       "    'salesAmt': '137030000',\n",
       "    'salesShare': '1.8',\n",
       "    'salesInten': '-35408000',\n",
       "    'salesChange': '-20.5',\n",
       "    'salesAcc': '3416675000',\n",
       "    'audiCnt': '19729',\n",
       "    'audiInten': '-6461',\n",
       "    'audiChange': '-24.7',\n",
       "    'audiAcc': '516289',\n",
       "    'scrnCnt': '169',\n",
       "    'showCnt': '359'},\n",
       "   {'rnum': '10',\n",
       "    'rank': '10',\n",
       "    'rankInten': '0',\n",
       "    'rankOldAndNew': 'OLD',\n",
       "    'movieCd': '20112708',\n",
       "    'movieNm': '극장판 포켓몬스터 베스트 위시 「비크티니와 흑의 영웅 제크로무」',\n",
       "    'openDt': '2011-12-22',\n",
       "    'salesAmt': '125535500',\n",
       "    'salesShare': '1.6',\n",
       "    'salesInten': '-40756000',\n",
       "    'salesChange': '-24.5',\n",
       "    'salesAcc': '1595695000',\n",
       "    'audiCnt': '17817',\n",
       "    'audiInten': '-6554',\n",
       "    'audiChange': '-26.9',\n",
       "    'audiAcc': '235070',\n",
       "    'scrnCnt': '175',\n",
       "    'showCnt': '291'}]}}"
      ]
     },
     "execution_count": 17,
     "metadata": {},
     "output_type": "execute_result"
    }
   ],
   "source": [
    "# json.loads(딕셔너리 형태의 문자열)\n",
    "# json(딕셔너리) 형태로 적힌 문자열 자료를 딕셔너리로 변환\n",
    "json.loads(json_utf8)"
   ]
  },
  {
   "cell_type": "markdown",
   "id": "10190a22",
   "metadata": {},
   "source": [
    "1. 일별 박스오피스에서 여러분들이 원하는 날짜의 json 데이터를 받아서 decode(utf-8)까지 해 주세요.\n",
    "단, 1위 ~ 3위까지만 받아옵니다.\n",
    "\n",
    "2. 받아왔다면 해당 1~3위 영화중 마음에 드는 영화를 하나 골라서 영화 상세정보탭에서 상세정보를\n",
    "조회해주세요.\n",
    "\n",
    "3. 조회덴 데이터를 분석해서 설명"
   ]
  },
  {
   "cell_type": "code",
   "execution_count": null,
   "id": "7ef357bc",
   "metadata": {},
   "outputs": [],
   "source": []
  },
  {
   "cell_type": "code",
   "execution_count": null,
   "id": "73112445",
   "metadata": {},
   "outputs": [],
   "source": [
    "# 스프링 프로젝트에 하나 더 추가해서\n",
    "# 날짜를 폼으로 입력하고 제출버튼을 누르면\n",
    "# $.getJSON을 이용해서 해당 날짜의 일일 박스오피스를 화면에 띄우기"
   ]
  }
 ],
 "metadata": {
  "kernelspec": {
   "display_name": "Python 3 (ipykernel)",
   "language": "python",
   "name": "python3"
  },
  "language_info": {
   "codemirror_mode": {
    "name": "ipython",
    "version": 3
   },
   "file_extension": ".py",
   "mimetype": "text/x-python",
   "name": "python",
   "nbconvert_exporter": "python",
   "pygments_lexer": "ipython3",
   "version": "3.9.7"
  }
 },
 "nbformat": 4,
 "nbformat_minor": 5
}
