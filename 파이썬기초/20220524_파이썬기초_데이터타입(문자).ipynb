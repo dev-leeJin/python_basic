{
 "cells": [
  {
   "cell_type": "markdown",
   "id": "b0a8eba3",
   "metadata": {},
   "source": [
    "# 데이터 타입\n",
    "# 문자형"
   ]
  },
  {
   "cell_type": "markdown",
   "id": "62e1d43f",
   "metadata": {},
   "source": [
    "# > 생성항기\n",
    "> 여닫는 따옴표는 반드시 문자의 앞 뒤에 한 쌍으로 완성해야 한다.\n",
    "### 1) 한 줄 문자열 : ', \""
   ]
  },
  {
   "cell_type": "code",
   "execution_count": 7,
   "id": "e8085d4f",
   "metadata": {},
   "outputs": [
    {
     "data": {
      "text/plain": [
       "'10'"
      ]
     },
     "execution_count": 7,
     "metadata": {},
     "output_type": "execute_result"
    }
   ],
   "source": [
    "10\n",
    "\"10\""
   ]
  },
  {
   "cell_type": "code",
   "execution_count": 8,
   "id": "8daf828c",
   "metadata": {},
   "outputs": [
    {
     "ename": "SyntaxError",
     "evalue": "EOL while scanning string literal (Temp/ipykernel_21736/2630076635.py, line 1)",
     "output_type": "error",
     "traceback": [
      "\u001b[1;36m  File \u001b[1;32m\"C:\\Users\\82104\\AppData\\Local\\Temp/ipykernel_21736/2630076635.py\"\u001b[1;36m, line \u001b[1;32m1\u001b[0m\n\u001b[1;33m    a =  '안녕하세요\u001b[0m\n\u001b[1;37m               ^\u001b[0m\n\u001b[1;31mSyntaxError\u001b[0m\u001b[1;31m:\u001b[0m EOL while scanning string literal\n"
     ]
    }
   ],
   "source": [
    "a =  '안녕하세요\n",
    "반갑습니다'"
   ]
  },
  {
   "cell_type": "code",
   "execution_count": 11,
   "id": "d80dcecd",
   "metadata": {
    "scrolled": true
   },
   "outputs": [
    {
     "name": "stdout",
     "output_type": "stream",
     "text": [
      "안녕하세요 \n",
      "반갑습니다\n"
     ]
    }
   ],
   "source": [
    "a = '안녕하세요 \\n반갑습니다'\n",
    "print(a)  # \\를 2개 붙이면 역슬레시의 역할은 무시된다. "
   ]
  },
  {
   "cell_type": "markdown",
   "id": "22d67fb1",
   "metadata": {},
   "source": [
    "# 2) 여러 줄 문자열 : ''', \"\"\"\n",
    "\n",
    "- print()를 했을때  줄바꿈(enter)가 그대로 반영되는 문자열로 처리 가능\n",
    "- 단 화면에서 보기를 하면(print 없이 마지막줄에 변수넣고 셀을 실행해서 보면)\n",
    "- 줄바꿈이 바로 나타나지 않고 엔터키가 쳐진 줄바꿈 구간은 \\n으로 대신 표현됩니다"
   ]
  },
  {
   "cell_type": "code",
   "execution_count": 12,
   "id": "e5bf4ae9",
   "metadata": {},
   "outputs": [
    {
     "data": {
      "text/plain": [
       "'안녕하세요\\n반갑습니다'"
      ]
     },
     "execution_count": 12,
     "metadata": {},
     "output_type": "execute_result"
    }
   ],
   "source": [
    "a = \"\"\"안녕하세요\n",
    "반갑습니다\"\"\"\n",
    "a"
   ]
  },
  {
   "cell_type": "code",
   "execution_count": 13,
   "id": "0522deab",
   "metadata": {},
   "outputs": [
    {
     "name": "stdout",
     "output_type": "stream",
     "text": [
      "안녕하세요\n",
      "반갑습니다\n"
     ]
    }
   ],
   "source": [
    "print(a)"
   ]
  },
  {
   "cell_type": "markdown",
   "id": "64447ef6",
   "metadata": {},
   "source": [
    "## 3) 문자 속에 문자열 기호 사용하기\n",
    "- 문자열에서 자주 쓰는 기호 : ', \""
   ]
  },
  {
   "cell_type": "code",
   "execution_count": 15,
   "id": "47ae7534",
   "metadata": {},
   "outputs": [
    {
     "name": "stdout",
     "output_type": "stream",
     "text": [
      "She's happy\n"
     ]
    }
   ],
   "source": [
    "# 언어, 문자에서 많이 쓰이는 기호 : she's, \"설렁탕을 사왔는데 왜 먹지를 못하나...\"\n",
    "# ' , \"\" 를 문자로 사용하고 싶다면 종류를 다르게 쓰면 됌\n",
    "a= \"She's happy\"\n",
    "print(a)"
   ]
  },
  {
   "cell_type": "code",
   "execution_count": 17,
   "id": "9243a48a",
   "metadata": {},
   "outputs": [
    {
     "name": "stdout",
     "output_type": "stream",
     "text": [
      "오늘은 \"미세먼지\" 좋음.\n"
     ]
    }
   ],
   "source": [
    "title =  '오늘은 \"미세먼지\" 좋음.'\n",
    "print(title)"
   ]
  },
  {
   "cell_type": "code",
   "execution_count": 18,
   "id": "ad062960",
   "metadata": {},
   "outputs": [
    {
     "name": "stdout",
     "output_type": "stream",
     "text": [
      "She' happy.\n"
     ]
    }
   ],
   "source": [
    "b =  'She\\' happy.'\n",
    "print(b)"
   ]
  },
  {
   "cell_type": "code",
   "execution_count": 23,
   "id": "9088f8a9",
   "metadata": {},
   "outputs": [
    {
     "name": "stdout",
     "output_type": "stream",
     "text": [
      "aaaaaaaaaaaaaaaaaaaaaaaaaaaaaaaaaaaaaaaaaaaaaaaaaaaaaaaaaaaaaaaaaaaaaaaaaaaaaaaaaaaaaaaaaaaaaaaaaaaaaaaaaaaaaaaaaaaaaaaaaaaaaaaaaaaaaaaaaaaaaaaaaaaaaaaaaaaaaaaaaaaaa\n"
     ]
    }
   ],
   "source": [
    "c = 'aaaaaaaaaaaaaaaaaaaaaaa\\\n",
    "aaaaaaaaaaaaaaaaaaaaaaaaaaaaaaaaaaaaaaaaaaaaaaaaaaaaa\\\n",
    "aaaaaaaaaaaaaaaaaaaaaaaaa\\\n",
    "aaaaaaaaaaaaaaaaaaaaaaaaaaaaaaaaaaaaaaaaaaaaaaaaaaaaaaaaaaaaaaaa'\n",
    "print(c) # 긴 글에 역슬레시를 입력하면 출력해도 한 줄로 출력됌"
   ]
  },
  {
   "cell_type": "markdown",
   "id": "f3de2fbb",
   "metadata": {},
   "source": [
    "# <<연습문제>>\n",
    "### 1. 아래와 같은 여러 줄의 문장을 문자열로 만들어서 lines라는 변수에 할당하세요\n",
    "\n",
    "> 파이썬도 배우고\n",
    "> 장고도 배우고\n",
    "> 할 게 너무 많아\n",
    "\n",
    "방법 1) 여러 줄 문자열 활용하기(lines 변수에 할당) <br>\n",
    "방법 2) 한 줄 문자열 내부에 \\n을 사이사이에 활용하기. (line 변수에 할당)"
   ]
  },
  {
   "cell_type": "code",
   "execution_count": 25,
   "id": "48c47b90",
   "metadata": {},
   "outputs": [
    {
     "name": "stdout",
     "output_type": "stream",
     "text": [
      "파이썬도 배우고\n",
      "장고도 배우고\n",
      "할 게 너무 많아\n"
     ]
    }
   ],
   "source": [
    "# 방법 1\n",
    "lines = \"\"\"파이썬도 배우고\n",
    "장고도 배우고\n",
    "할 게 너무 많아\"\"\"\n",
    "print(lines)"
   ]
  },
  {
   "cell_type": "code",
   "execution_count": 27,
   "id": "299fdf27",
   "metadata": {},
   "outputs": [
    {
     "name": "stdout",
     "output_type": "stream",
     "text": [
      "파이썬도 배우고\n",
      "장고도 배우고\n",
      "할 게 너무 많아\n"
     ]
    }
   ],
   "source": [
    "# 방법 2\n",
    "line = \"파이썬도 배우고\\n장고도 배우고\\n할 게 너무 많아\"\n",
    "print(line)"
   ]
  },
  {
   "cell_type": "markdown",
   "id": "23f041aa",
   "metadata": {},
   "source": [
    "## > 연산하기\n",
    "### 1) 산술연산자 : 문자, 숫자를 함께 연산하기 위한 문법 기호\n",
    "\n",
    "- 문자와 문자를 연결\n",
    "- 동일한 문자를 반복해서 연결"
   ]
  },
  {
   "cell_type": "code",
   "execution_count": 28,
   "id": "438f0828",
   "metadata": {},
   "outputs": [
    {
     "data": {
      "text/plain": [
       "'가나'"
      ]
     },
     "execution_count": 28,
     "metadata": {},
     "output_type": "execute_result"
    }
   ],
   "source": [
    "# 문자와 문자를 연결 : +\n",
    "'가' + '나'"
   ]
  },
  {
   "cell_type": "code",
   "execution_count": 29,
   "id": "65fd74de",
   "metadata": {},
   "outputs": [
    {
     "data": {
      "text/plain": [
       "'가 나'"
      ]
     },
     "execution_count": 29,
     "metadata": {},
     "output_type": "execute_result"
    }
   ],
   "source": [
    "# 1. 문자열 자체에 공백 추가하기 ('가 나'로 출력되게 만들기)\n",
    "'가' + ' ' + '나'"
   ]
  },
  {
   "cell_type": "code",
   "execution_count": 31,
   "id": "074d442c",
   "metadata": {},
   "outputs": [
    {
     "ename": "TypeError",
     "evalue": "can only concatenate str (not \"int\") to str",
     "output_type": "error",
     "traceback": [
      "\u001b[1;31m---------------------------------------------------------------------------\u001b[0m",
      "\u001b[1;31mTypeError\u001b[0m                                 Traceback (most recent call last)",
      "\u001b[1;32m~\\AppData\\Local\\Temp/ipykernel_21736/184349156.py\u001b[0m in \u001b[0;36m<module>\u001b[1;34m\u001b[0m\n\u001b[0;32m      1\u001b[0m \u001b[1;31m# 2. 문자 + 문자가 아닌 자료형(ex 숫자) = Error\u001b[0m\u001b[1;33m\u001b[0m\u001b[1;33m\u001b[0m\u001b[0m\n\u001b[1;32m----> 2\u001b[1;33m \u001b[1;34m'가'\u001b[0m \u001b[1;33m+\u001b[0m \u001b[1;36m1\u001b[0m\u001b[1;33m\u001b[0m\u001b[1;33m\u001b[0m\u001b[0m\n\u001b[0m",
      "\u001b[1;31mTypeError\u001b[0m: can only concatenate str (not \"int\") to str"
     ]
    }
   ],
   "source": [
    "# 2. 문자 + 문자가 아닌 자료형(ex 숫자) = Error\n",
    "'가' + 1"
   ]
  },
  {
   "cell_type": "code",
   "execution_count": 33,
   "id": "36da8e9e",
   "metadata": {},
   "outputs": [
    {
     "data": {
      "text/plain": [
       "'abcabcabc'"
      ]
     },
     "execution_count": 33,
     "metadata": {},
     "output_type": "execute_result"
    }
   ],
   "source": [
    "# 3. 문자를 여러번 반복하기 : *\n",
    "# 동일한 문자열을 여러 번 반복 연결시켜줌\n",
    "'abc' * 3 #'abc' + 'abc' + 'abc'"
   ]
  },
  {
   "cell_type": "code",
   "execution_count": 34,
   "id": "432e7c7d",
   "metadata": {},
   "outputs": [
    {
     "ename": "TypeError",
     "evalue": "can't multiply sequence by non-int of type 'str'",
     "output_type": "error",
     "traceback": [
      "\u001b[1;31m---------------------------------------------------------------------------\u001b[0m",
      "\u001b[1;31mTypeError\u001b[0m                                 Traceback (most recent call last)",
      "\u001b[1;32m~\\AppData\\Local\\Temp/ipykernel_21736/2284061008.py\u001b[0m in \u001b[0;36m<module>\u001b[1;34m\u001b[0m\n\u001b[0;32m      1\u001b[0m \u001b[1;31m# 문자 * 문자 = Error\u001b[0m\u001b[1;33m\u001b[0m\u001b[1;33m\u001b[0m\u001b[0m\n\u001b[1;32m----> 2\u001b[1;33m \u001b[1;34m'abc'\u001b[0m \u001b[1;33m*\u001b[0m \u001b[1;34m'a'\u001b[0m\u001b[1;33m\u001b[0m\u001b[1;33m\u001b[0m\u001b[0m\n\u001b[0m",
      "\u001b[1;31mTypeError\u001b[0m: can't multiply sequence by non-int of type 'str'"
     ]
    }
   ],
   "source": [
    "# 문자 * 문자 = Error\n",
    "'abc' * 'a'"
   ]
  },
  {
   "cell_type": "markdown",
   "id": "c0b9b9c2",
   "metadata": {},
   "source": [
    "### 2) 비교연산자 :  문자의 크기를 비교하기 위한 문법 기호\n",
    "\n",
    "> 문자의 비교\n",
    "* 대문자 vs 소문자 : 대문자 < 소문자 크기가 더 크다 (아스키코드 : A = 65, a = 97)\n",
    "* 알파벳 : 알파벳 순서가 뒤에 있을수록(a 보다는 z이) 크기가 더 크다\n",
    "* 문자 길이 : 문자열의 길이가 길 수록 크기가 더 크다(len()으로 확인 가능)"
   ]
  },
  {
   "cell_type": "code",
   "execution_count": 35,
   "id": "364ff37a",
   "metadata": {},
   "outputs": [
    {
     "data": {
      "text/plain": [
       "True"
      ]
     },
     "execution_count": 35,
     "metadata": {},
     "output_type": "execute_result"
    }
   ],
   "source": [
    "# 대문자 vs 소문자 :비교연산자(==, !=, <, > )로 확인\n",
    "'A' < 'a'"
   ]
  },
  {
   "cell_type": "code",
   "execution_count": 36,
   "id": "5ccd0579",
   "metadata": {},
   "outputs": [
    {
     "data": {
      "text/plain": [
       "False"
      ]
     },
     "execution_count": 36,
     "metadata": {},
     "output_type": "execute_result"
    }
   ],
   "source": [
    "# 문자열을 대상으로 할 때에는 무조건 첫 글자끼리만 비교한다\n",
    "# 문자 길이는 실제 크기 비교에 영향을 미치지 않음\n",
    "'b' < 'Bus'"
   ]
  },
  {
   "cell_type": "code",
   "execution_count": 37,
   "id": "12b464fb",
   "metadata": {},
   "outputs": [
    {
     "data": {
      "text/plain": [
       "True"
      ]
     },
     "execution_count": 37,
     "metadata": {},
     "output_type": "execute_result"
    }
   ],
   "source": [
    "# 문자 길이는 len(문자열) 형식으로 볼 수 있다\n",
    "len('b') < len('Bus')"
   ]
  },
  {
   "cell_type": "code",
   "execution_count": 38,
   "id": "d27d4d3f",
   "metadata": {},
   "outputs": [
    {
     "data": {
      "text/plain": [
       "True"
      ]
     },
     "execution_count": 38,
     "metadata": {},
     "output_type": "execute_result"
    }
   ],
   "source": [
    "# 영문자와 영문자 이외의 다른 문자간 비교는 무조건 영문자가 작게 나온다\n",
    "# ascii code VS unicode\n",
    "'B' < '가'"
   ]
  },
  {
   "cell_type": "markdown",
   "id": "5e22d04d",
   "metadata": {},
   "source": [
    "# > 인덱스\n",
    "- 아이템(대상이 가지고 있는 최소 단위의 값)의 위치를 나타내는 고유한 번호\n",
    "- 첫 번째 위치는 0부터 시작\n",
    "- 마지막 위치는 -1부터 시작(파이썬의 특징)"
   ]
  },
  {
   "cell_type": "code",
   "execution_count": 39,
   "id": "8494fe75",
   "metadata": {},
   "outputs": [],
   "source": [
    "# banana라는 문자열에 대해 인덱싱\n",
    "text =  'banana'"
   ]
  },
  {
   "cell_type": "code",
   "execution_count": 41,
   "id": "ddee5dfd",
   "metadata": {},
   "outputs": [
    {
     "data": {
      "text/plain": [
       "'b'"
      ]
     },
     "execution_count": 41,
     "metadata": {},
     "output_type": "execute_result"
    }
   ],
   "source": [
    "# banana라는 문자열에서 첫 번째 아이템 = 0번쩨 인덱스 번호로 접근\n",
    "# 인덱싱 문법 : 객체(대상 : 값, 자료형)[인덱스번호]\n",
    "text[0]"
   ]
  },
  {
   "cell_type": "code",
   "execution_count": 43,
   "id": "a178ec3c",
   "metadata": {},
   "outputs": [
    {
     "data": {
      "text/plain": [
       "'a'"
      ]
     },
     "execution_count": 43,
     "metadata": {},
     "output_type": "execute_result"
    }
   ],
   "source": [
    "# 마지막 아이템인 'a' 에 접근시켜보세요\n",
    "text[-1] # text[5]"
   ]
  },
  {
   "cell_type": "markdown",
   "id": "246042fb",
   "metadata": {},
   "source": [
    "### 2) 슬라이싱 : 연속된 범위의 여러 아이템에 접근\n",
    "\n",
    "* 대상객체[처음인덱스 : 마지막인덱스( : 간격)]\n",
    "* 처음 인덱스 번호는 포함(n부터~)\n",
    "* 마지막 인덱스번호는 포함하지 않음(m-1까지)\n",
    "* 간격조정은 할 수도 있고 하지 않을수도 있음(기본은 1씩 증가)"
   ]
  },
  {
   "cell_type": "code",
   "execution_count": 44,
   "id": "a0864aea",
   "metadata": {},
   "outputs": [],
   "source": [
    "# 문자열 생성\n",
    "text = \"hello python world\""
   ]
  },
  {
   "cell_type": "code",
   "execution_count": 45,
   "id": "5989bd88",
   "metadata": {},
   "outputs": [
    {
     "data": {
      "text/plain": [
       "'hello python'"
      ]
     },
     "execution_count": 45,
     "metadata": {},
     "output_type": "execute_result"
    }
   ],
   "source": [
    "# 처음부터 특정 위치까지 : ~python\n",
    "# 처음인덱스 : 0\n",
    "# 마지막 인덱스 : python의 n 다음 문자가 몇 번째인지 확인\n",
    "text[0:12]"
   ]
  },
  {
   "cell_type": "code",
   "execution_count": 46,
   "id": "c486ba2a",
   "metadata": {},
   "outputs": [
    {
     "data": {
      "text/plain": [
       "'hello python'"
      ]
     },
     "execution_count": 46,
     "metadata": {},
     "output_type": "execute_result"
    }
   ],
   "source": [
    "# 처음부터 특정 위치까지 : ~python\n",
    "# 처음인덱스 : 0\n",
    "# 마지막 인덱스 : -7(뒤에서 7번째까지를 가져와야 하므로 실제로는 -6까지 타겟으로)\n",
    "text[0:-6]"
   ]
  },
  {
   "cell_type": "code",
   "execution_count": 47,
   "id": "2c42c319",
   "metadata": {},
   "outputs": [
    {
     "data": {
      "text/plain": [
       "'hello python'"
      ]
     },
     "execution_count": 47,
     "metadata": {},
     "output_type": "execute_result"
    }
   ],
   "source": [
    "# 첫 인덱스가 0으로 시작한다면 생략 가능\n",
    "text[:-6]"
   ]
  },
  {
   "cell_type": "code",
   "execution_count": 49,
   "id": "ecb60bc8",
   "metadata": {},
   "outputs": [
    {
     "data": {
      "text/plain": [
       "'python'"
      ]
     },
     "execution_count": 49,
     "metadata": {},
     "output_type": "execute_result"
    }
   ],
   "source": [
    "# 특정 위치부터 마지막 아이템까지 : python\n",
    "# 처음인덱스는  : 6\n",
    "# 마지막 인덳스 : -6\n",
    "# 간격 :  기본값(1)\n",
    "text[6:-6]"
   ]
  },
  {
   "cell_type": "code",
   "execution_count": 50,
   "id": "506e18c5",
   "metadata": {},
   "outputs": [
    {
     "data": {
      "text/plain": [
       "'hello python world'"
      ]
     },
     "execution_count": 50,
     "metadata": {},
     "output_type": "execute_result"
    }
   ],
   "source": [
    "# 전체 가져오기 : 처음 인덱스 , 마지막 인덱스를 모드 쓰지 않으면 전체 아이템을 모두 가져오는 결과\n",
    "# 처음 인덱스 기본값 :0\n",
    "# 마지막 인덱스 기본값 : 마지막까지\n",
    "text[:]"
   ]
  },
  {
   "cell_type": "code",
   "execution_count": 51,
   "id": "dfd5d0cd",
   "metadata": {},
   "outputs": [
    {
     "data": {
      "text/plain": [
       "'hlopto ol'"
      ]
     },
     "execution_count": 51,
     "metadata": {},
     "output_type": "execute_result"
    }
   ],
   "source": [
    "# 간격을 2로 주려면 :을 두 개 쓰고 가장 오른쪽에 증감분을 적습니다.\n",
    "text[::2]"
   ]
  },
  {
   "cell_type": "markdown",
   "id": "064826fe",
   "metadata": {},
   "source": [
    "## > 연습무제\n",
    "\n",
    "### 20220524미세먼지 양호함\n",
    "#### 위의 문장을 weather 변수에 저장한 다음\n",
    "#### 날짜는 date 변수에 슬라이싱으로 받아오고 micro 변수에 미세먼지 정도를\n",
    "#### 슬라이싱으로 받아오도록 만들어서 출력해주세요"
   ]
  },
  {
   "cell_type": "code",
   "execution_count": 52,
   "id": "a4994edf",
   "metadata": {},
   "outputs": [],
   "source": [
    "weather =\"20220524미세먼지 양호함\"\n",
    "date = weather[0:8]\n",
    "micro = weather[8:]"
   ]
  },
  {
   "cell_type": "code",
   "execution_count": 53,
   "id": "9fb75b4f",
   "metadata": {},
   "outputs": [
    {
     "name": "stdout",
     "output_type": "stream",
     "text": [
      "20220524\n"
     ]
    }
   ],
   "source": [
    "print(date)"
   ]
  },
  {
   "cell_type": "code",
   "execution_count": 54,
   "id": "225e5ebe",
   "metadata": {},
   "outputs": [
    {
     "name": "stdout",
     "output_type": "stream",
     "text": [
      "미세먼지 양호함\n"
     ]
    }
   ],
   "source": [
    "print(micro)"
   ]
  },
  {
   "cell_type": "code",
   "execution_count": 55,
   "id": "e718885a",
   "metadata": {},
   "outputs": [
    {
     "name": "stdout",
     "output_type": "stream",
     "text": [
      "날짜 20220524\n",
      "날씨 미세먼지 양호함\n"
     ]
    }
   ],
   "source": [
    "print(\"날짜\", date)\n",
    "print(\"날씨\", micro)"
   ]
  },
  {
   "cell_type": "markdown",
   "id": "f64cd1ef",
   "metadata": {},
   "source": [
    "# > 포매팅(Formatting)\n",
    "\n",
    "특정 값만 바뀌고 일정한 형식을 가지는 문자열을 작성할 수 있는 기법\n",
    "\n",
    "### 1. %포메팅\n",
    "\n",
    "* 데이터 타입에 따른 분류 : 정수, 실수, 문자\n",
    "* 옵션 길이  : 문자열 길이, 표현할 아이템 개수, 정렬, 공백\n",
    "\n",
    "\n",
    "### 1) 숫자값 대입"
   ]
  },
  {
   "cell_type": "code",
   "execution_count": 56,
   "id": "502b4795",
   "metadata": {},
   "outputs": [],
   "source": [
    "#1. 가변자료가 들어갈 자리(땡땡... 에 해당하는)에 구멍(%자료형)을 낸다.\n",
    "#2. 구멍이 뚫린 문자열 뒤에 %로 연결한 다음 집어넣을 값을 적는다"
   ]
  },
  {
   "cell_type": "code",
   "execution_count": 57,
   "id": "eb093e8c",
   "metadata": {},
   "outputs": [
    {
     "data": {
      "text/plain": [
       "'오늘은 16일입니다.'"
      ]
     },
     "execution_count": 57,
     "metadata": {},
     "output_type": "execute_result"
    }
   ],
   "source": [
    "# 정수 값 포매팅 : 정수(int) -> %d # 10진수 숫자를 디지털이라고 부르기 때문에 d를 씀\n",
    "'오늘은 %d일입니다.' % 16"
   ]
  },
  {
   "cell_type": "code",
   "execution_count": 59,
   "id": "1101de02",
   "metadata": {},
   "outputs": [
    {
     "name": "stdout",
     "output_type": "stream",
     "text": [
      "오늘은 24도입니다.\n"
     ]
    }
   ],
   "source": [
    "온도 = 24\n",
    "if 온도 == 24:\n",
    "    print('오늘은 24도입니다.')\n",
    "# 온도가 25도라면 if문을 하나하나씩 다 적어줘야함. 그래서 정수 포매팅을 사용해서 뭐가 들어갈 자리인지 나타냄."
   ]
  },
  {
   "cell_type": "code",
   "execution_count": 60,
   "id": "04f993b4",
   "metadata": {},
   "outputs": [
    {
     "data": {
      "text/plain": [
       "'오늘은 16일입니다.'"
      ]
     },
     "execution_count": 60,
     "metadata": {},
     "output_type": "execute_result"
    }
   ],
   "source": [
    "# 정수 자리의 의미 : 출력되는 형식이 정수라는 의미\n",
    "# 반올림이 아니라 소수점 아래를 버린 결과를 출력한다.\n",
    "'오늘은 %d일입니다.' % 16.1297528"
   ]
  },
  {
   "cell_type": "code",
   "execution_count": 61,
   "id": "9627a476",
   "metadata": {},
   "outputs": [
    {
     "data": {
      "text/plain": [
       "'오늘의 온도는 24.000000도 입니다.'"
      ]
     },
     "execution_count": 61,
     "metadata": {},
     "output_type": "execute_result"
    }
   ],
   "source": [
    "# 실수(float) 값 포매팅\n",
    "# %f를 이용하여 값에 대한 구멍을 낸다\n",
    "# %f는 기본적으로 소수점 6자리까지 표현\n",
    "\"오늘의 온도는 %f도 입니다.\" %24"
   ]
  },
  {
   "cell_type": "code",
   "execution_count": 62,
   "id": "f37090ba",
   "metadata": {},
   "outputs": [
    {
     "data": {
      "text/plain": [
       "'당신의 점수는 92.123457점 입니다.'"
      ]
     },
     "execution_count": 62,
     "metadata": {},
     "output_type": "execute_result"
    }
   ],
   "source": [
    "# 실수값 포매팅2: 집어넣는 값을 실수로 적용\n",
    "# 실수값 포매팅은 반올림이 적용된다.\n",
    "\"당신의 점수는 %f점 입니다.\" % 92.123456789"
   ]
  },
  {
   "cell_type": "code",
   "execution_count": 63,
   "id": "f7ffdf39",
   "metadata": {},
   "outputs": [
    {
     "data": {
      "text/plain": [
       "'당신의 점수는 92.455점 입니다.'"
      ]
     },
     "execution_count": 63,
     "metadata": {},
     "output_type": "execute_result"
    }
   ],
   "source": [
    "# 옵션 : 소수점 아래 자리를 몇 자리까지 출력할지 정할 수 있음\n",
    "# %0.nf : 소수점 아래 n자리까지 표현하는 실수\n",
    "'당신의 점수는 %0.3f점 입니다.' %92.4546132"
   ]
  },
  {
   "cell_type": "code",
   "execution_count": 64,
   "id": "a33cd032",
   "metadata": {},
   "outputs": [
    {
     "data": {
      "text/plain": [
       "'오늘은 5월 24일입니다.'"
      ]
     },
     "execution_count": 64,
     "metadata": {},
     "output_type": "execute_result"
    }
   ],
   "source": [
    "# 가변자료를 2개 이상 넣는 케이스\n",
    "# 집어넣는 값은 왼쪽부터 하나씩 전달됨\n",
    "# 2개 이상을 집어넣는 경우는 % (!번째 값, 2번째값 ...) 과 같이 ()로 감싸서 전달한다.\n",
    "'오늘은 %d월 %d일입니다.' %(5,24)"
   ]
  },
  {
   "cell_type": "code",
   "execution_count": 65,
   "id": "967f6c38",
   "metadata": {},
   "outputs": [
    {
     "ename": "TypeError",
     "evalue": "%d format: a number is required, not str",
     "output_type": "error",
     "traceback": [
      "\u001b[1;31m---------------------------------------------------------------------------\u001b[0m",
      "\u001b[1;31mTypeError\u001b[0m                                 Traceback (most recent call last)",
      "\u001b[1;32m~\\AppData\\Local\\Temp/ipykernel_21736/1033857687.py\u001b[0m in \u001b[0;36m<module>\u001b[1;34m\u001b[0m\n\u001b[0;32m      1\u001b[0m \u001b[1;31m# %d, %f에 숫자가 아닌 자료를 넣으면 에러가 발생합니다.\u001b[0m\u001b[1;33m\u001b[0m\u001b[1;33m\u001b[0m\u001b[0m\n\u001b[1;32m----> 2\u001b[1;33m \u001b[1;34m'오늘은 %d월 %d일입니다.'\u001b[0m \u001b[1;33m%\u001b[0m\u001b[1;33m(\u001b[0m\u001b[1;34m\"5\"\u001b[0m\u001b[1;33m,\u001b[0m\u001b[1;34m\"24\"\u001b[0m\u001b[1;33m)\u001b[0m\u001b[1;33m\u001b[0m\u001b[1;33m\u001b[0m\u001b[0m\n\u001b[0m",
      "\u001b[1;31mTypeError\u001b[0m: %d format: a number is required, not str"
     ]
    }
   ],
   "source": [
    "# %d, %f에 숫자가 아닌 자료를 넣으면 에러가 발생합니다.\n",
    "'오늘은 %d월 %d일입니다.' %(\"5\",\"24\")"
   ]
  },
  {
   "cell_type": "markdown",
   "id": "a24358d6",
   "metadata": {},
   "source": [
    "# 2) 문자 대입\n",
    "- %s로 구멍 뚫기\n",
    "- 집어넣는 값에 대해서는 제한이 없다\n",
    "- 만능 포매팅"
   ]
  },
  {
   "cell_type": "code",
   "execution_count": 66,
   "id": "dd311bf4",
   "metadata": {},
   "outputs": [
    {
     "data": {
      "text/plain": [
       "'abc213님 접속을 환영합니다'"
      ]
     },
     "execution_count": 66,
     "metadata": {},
     "output_type": "execute_result"
    }
   ],
   "source": [
    "# 집어넣는 값 : 문자 타입\n",
    "'%s님 접속을 환영합니다' %'abc213'"
   ]
  },
  {
   "cell_type": "code",
   "execution_count": 67,
   "id": "c77c108f",
   "metadata": {},
   "outputs": [
    {
     "data": {
      "text/plain": [
       "'1000, 숫자도 입력 가능'"
      ]
     },
     "execution_count": 67,
     "metadata": {},
     "output_type": "execute_result"
    }
   ],
   "source": [
    "# 문자 이외의 타입도 가능\n",
    "'%s, 숫자도 입력 가능' % 1000"
   ]
  },
  {
   "cell_type": "markdown",
   "id": "f5f5faa8",
   "metadata": {},
   "source": [
    "# <<연습문제>>\n",
    "\n",
    "### 아래 문장에 대해 조건을 만족하는 포매팅을 작성해주세요\n",
    "\"날짜  : 2022-05-24/ 출석률 : 88% <br>\n",
    "    - 전달하는 값 : 4개<br>\n",
    "    - 출석한 학생 수: 16명<br>\n",
    "    - 총 학생 수 : 18명<br>\n",
    "    - 출석률은 소수점 첫 번째 자리에서 반올림 적용"
   ]
  },
  {
   "cell_type": "code",
   "execution_count": 78,
   "id": "67311da0",
   "metadata": {},
   "outputs": [
    {
     "data": {
      "text/plain": [
       "'날짜 : 2022-05-24 /  출석률 : 88.9%'"
      ]
     },
     "execution_count": 78,
     "metadata": {},
     "output_type": "execute_result"
    }
   ],
   "source": [
    "\"날짜 : %s-%s-%s /  출석률 : %0.1f%%\" %(2022,\"05\",24, (16/18*100)) # %% 두개를 입력해야 문자로 받음"
   ]
  },
  {
   "cell_type": "markdown",
   "id": "4fd64656",
   "metadata": {},
   "source": [
    "## > 문자열 내장함수* = 문자열 메서드\n",
    "\n",
    "    └≫ 내장함수 : 특정 데이터 타입이 자체적으로 가지고 있는 속성으로 존재하는 함수\n",
    "    └≫ 문법 : 변수(데이터타입값).함수명()\n",
    "\n",
    "\n",
    "* count( ) : 특정 문자의 개수\n",
    "\n",
    "\n",
    "* find( ) :특정 문자의 인덱스 번호(위치)\n",
    "\n",
    "\n",
    "* join( ) : 특정 기호를 문자열 아이템 사이에 입력\n",
    "\n",
    "\n",
    "* upper( ) : 문자열을 대문자로 변경\n",
    "\n",
    "\n",
    "* lower( ) : 문자열을 소문자로 변경\n",
    "\n",
    "\n",
    "* capitalize( ) : 문자열의 첫 글자를 대문자로\n",
    "\n",
    "\n",
    "* swapcase( ) : 대문자는 소문자로, 소문자는 대문자로 전환\n",
    "\n",
    "\n",
    "* lstrip( ) / rstrip( ) / strip( ) : 좌 / 우 / 앞뒤 공백(기본) 및 특정 문자 지우기\n",
    "\n",
    "\n",
    "* replace( ) : 기존 문자를 새로운 문자로 바꾸기\n",
    "\n",
    "\n",
    "* split( ) : 특정 기호를 기준으로 문자열을 아이템 단위로 나누어 리스트로 반환\n",
    "\n",
    "\n",
    "* center( ) : 문자열 길이를 지정하여 대상 문자열을 중앙 정렬\n",
    "\n",
    "\n",
    "* ljust( ) : 문자열 길이를 지정하여 대상 문자열을 왼쪽 정렬\n",
    "\n",
    "\n",
    "* rjust( ) : 문자열 길이를 지정하여 대상 문자열을 오른쪽 정렬"
   ]
  },
  {
   "cell_type": "code",
   "execution_count": 79,
   "id": "5c2a2c4d",
   "metadata": {},
   "outputs": [],
   "source": [
    "# 문자열 생성\n",
    "text = 'tomato juice'"
   ]
  },
  {
   "cell_type": "code",
   "execution_count": 82,
   "id": "e7f25587",
   "metadata": {},
   "outputs": [
    {
     "data": {
      "text/plain": [
       "2"
      ]
     },
     "execution_count": 82,
     "metadata": {},
     "output_type": "execute_result"
    }
   ],
   "source": [
    "# count()\n",
    "# text문자열에서의 a의 갯수\n",
    "text.count('o')"
   ]
  },
  {
   "cell_type": "code",
   "execution_count": 86,
   "id": "a72788f1",
   "metadata": {},
   "outputs": [
    {
     "data": {
      "text/plain": [
       "4"
      ]
     },
     "execution_count": 86,
     "metadata": {},
     "output_type": "execute_result"
    }
   ],
   "source": [
    "# find() : 특정 값의 인덱스 번호를 반환\n",
    "# txt 문자열에서의 a의 인덱스 번호\n",
    "# find('찾을자료',시작인덱스)를 ㅈ적어주면 특정 인덱스부터 찾아볼수도 있음\n",
    "# 없는 자료 조회시 -1이라는 인덱스를 리턴\n",
    "text.find(\"to\", 1)"
   ]
  },
  {
   "cell_type": "code",
   "execution_count": 87,
   "id": "28b5bb20",
   "metadata": {},
   "outputs": [
    {
     "data": {
      "text/plain": [
       "'TOMATO JUICE'"
      ]
     },
     "execution_count": 87,
     "metadata": {},
     "output_type": "execute_result"
    }
   ],
   "source": [
    "# upper()\n",
    "# 변경한 결과를 시물레이션해서 보여줌(원본자료는 반영되지 않음)\n",
    "text.upper()"
   ]
  },
  {
   "cell_type": "code",
   "execution_count": 88,
   "id": "0b63a015",
   "metadata": {},
   "outputs": [
    {
     "data": {
      "text/plain": [
       "'tomato juice'"
      ]
     },
     "execution_count": 88,
     "metadata": {},
     "output_type": "execute_result"
    }
   ],
   "source": [
    "text"
   ]
  },
  {
   "cell_type": "code",
   "execution_count": 90,
   "id": "0afa8cbf",
   "metadata": {},
   "outputs": [
    {
     "data": {
      "text/plain": [
       "'TOMATO JUICE'"
      ]
     },
     "execution_count": 90,
     "metadata": {},
     "output_type": "execute_result"
    }
   ],
   "source": [
    "# lower()\n",
    "text2 = text.upper()\n",
    "text2"
   ]
  },
  {
   "cell_type": "code",
   "execution_count": 91,
   "id": "307b5644",
   "metadata": {},
   "outputs": [
    {
     "data": {
      "text/plain": [
       "'tomato juice'"
      ]
     },
     "execution_count": 91,
     "metadata": {},
     "output_type": "execute_result"
    }
   ],
   "source": [
    "text2.lower()"
   ]
  },
  {
   "cell_type": "code",
   "execution_count": 92,
   "id": "6772bafd",
   "metadata": {},
   "outputs": [],
   "source": [
    "text = '                      123              123                    '"
   ]
  },
  {
   "cell_type": "code",
   "execution_count": 93,
   "id": "2f7b8314",
   "metadata": {},
   "outputs": [
    {
     "data": {
      "text/plain": [
       "'123              123                    '"
      ]
     },
     "execution_count": 93,
     "metadata": {},
     "output_type": "execute_result"
    }
   ],
   "source": [
    "# lstrip() : 왼쪽\n",
    "# 문자열의 왼쪽에 있는 공백 전부 제거(가운데는 제거 안함)\n",
    "# 임시적인 결과만 보여줌(원본 변형 x)\n",
    "text.lstrip()"
   ]
  },
  {
   "cell_type": "code",
   "execution_count": 94,
   "id": "a5f33720",
   "metadata": {},
   "outputs": [
    {
     "data": {
      "text/plain": [
       "'                      123              123                    '"
      ]
     },
     "execution_count": 94,
     "metadata": {},
     "output_type": "execute_result"
    }
   ],
   "source": [
    "text"
   ]
  },
  {
   "cell_type": "code",
   "execution_count": 95,
   "id": "13e709ba",
   "metadata": {},
   "outputs": [
    {
     "data": {
      "text/plain": [
       "'                      123              123'"
      ]
     },
     "execution_count": 95,
     "metadata": {},
     "output_type": "execute_result"
    }
   ],
   "source": [
    "# rstrip() : 오른쪽\n",
    "text.rstrip()"
   ]
  },
  {
   "cell_type": "code",
   "execution_count": 97,
   "id": "d100e38a",
   "metadata": {},
   "outputs": [
    {
     "data": {
      "text/plain": [
       "'                      123              123                    '"
      ]
     },
     "execution_count": 97,
     "metadata": {},
     "output_type": "execute_result"
    }
   ],
   "source": [
    "text"
   ]
  },
  {
   "cell_type": "code",
   "execution_count": 98,
   "id": "f940b0f9",
   "metadata": {},
   "outputs": [
    {
     "data": {
      "text/plain": [
       "'123              123'"
      ]
     },
     "execution_count": 98,
     "metadata": {},
     "output_type": "execute_result"
    }
   ],
   "source": [
    "# strip() : 양쪽\n",
    "text.strip()"
   ]
  },
  {
   "cell_type": "code",
   "execution_count": 99,
   "id": "665c1307",
   "metadata": {},
   "outputs": [
    {
     "data": {
      "text/plain": [
       "'                      456              456                    '"
      ]
     },
     "execution_count": 99,
     "metadata": {},
     "output_type": "execute_result"
    }
   ],
   "source": [
    "# replace(old, new)\n",
    "# 찾아바꾸기. 문자열 old에 해당하는 문자를 찾아 new로 싹 다 교체\n",
    "# 공백 찾아 없애기를 쓸 수 있음.\n",
    "# 역시 원본 자료에 바로 저장되지 않고 일시적으로 결과면 보여줌\n",
    "text.replace('123','456')"
   ]
  },
  {
   "cell_type": "code",
   "execution_count": 100,
   "id": "ec395653",
   "metadata": {},
   "outputs": [
    {
     "data": {
      "text/plain": [
       "'                      123              123                    '"
      ]
     },
     "execution_count": 100,
     "metadata": {},
     "output_type": "execute_result"
    }
   ],
   "source": [
    "text"
   ]
  },
  {
   "cell_type": "code",
   "execution_count": 101,
   "id": "ce529a4b",
   "metadata": {},
   "outputs": [
    {
     "data": {
      "text/plain": [
       "'123123'"
      ]
     },
     "execution_count": 101,
     "metadata": {},
     "output_type": "execute_result"
    }
   ],
   "source": [
    "# text내부 공백을 싹 다 없애보세요.\n",
    "text.replace(\" \", \"\")"
   ]
  },
  {
   "cell_type": "code",
   "execution_count": 102,
   "id": "4f3d8186",
   "metadata": {},
   "outputs": [
    {
     "data": {
      "text/plain": [
       "'                      123              123                    '"
      ]
     },
     "execution_count": 102,
     "metadata": {},
     "output_type": "execute_result"
    }
   ],
   "source": [
    "text"
   ]
  },
  {
   "cell_type": "code",
   "execution_count": 103,
   "id": "ff91d71c",
   "metadata": {},
   "outputs": [],
   "source": [
    "text2 = 'a b c'"
   ]
  },
  {
   "cell_type": "code",
   "execution_count": 104,
   "id": "45dc9f2d",
   "metadata": {},
   "outputs": [
    {
     "data": {
      "text/plain": [
       "['a', 'b', 'c']"
      ]
     },
     "execution_count": 104,
     "metadata": {},
     "output_type": "execute_result"
    }
   ],
   "source": [
    "# .split(\"기준\")\n",
    "# 쪼개기\n",
    "# 기준 입력시 기준점을 기준으로 쪼개고 입력 안 하면 ' ', \\n, \\t 등을 기준으로 쪼개줌\n",
    "text2.split()"
   ]
  },
  {
   "cell_type": "code",
   "execution_count": 105,
   "id": "65bbd070",
   "metadata": {},
   "outputs": [
    {
     "data": {
      "text/plain": [
       "'a b c'"
      ]
     },
     "execution_count": 105,
     "metadata": {},
     "output_type": "execute_result"
    }
   ],
   "source": [
    "text2"
   ]
  },
  {
   "cell_type": "code",
   "execution_count": 106,
   "id": "60c74c7f",
   "metadata": {},
   "outputs": [],
   "source": [
    "text3= 'a,b,c,ddes'"
   ]
  },
  {
   "cell_type": "code",
   "execution_count": 110,
   "id": "fdad087e",
   "metadata": {},
   "outputs": [
    {
     "data": {
      "text/plain": [
       "['a', 'b', 'c', 'ddes']"
      ]
     },
     "execution_count": 110,
     "metadata": {},
     "output_type": "execute_result"
    }
   ],
   "source": [
    "# 기준 설정시 공백이 아닌 기준문자를 직접 입력해 쪼개기\n",
    "# \",\"를 대상으로 쪼갤 경우 나오는 text3의 결과물은 4개\n",
    "text3.split(',')"
   ]
  },
  {
   "cell_type": "code",
   "execution_count": 113,
   "id": "161b0f0f",
   "metadata": {},
   "outputs": [
    {
     "data": {
      "text/plain": [
       "'a,b,c'"
      ]
     },
     "execution_count": 113,
     "metadata": {},
     "output_type": "execute_result"
    }
   ],
   "source": [
    "# join()\n",
    "# 왼쪽에 있는 요소를 .join(자료)의\n",
    "# 자료 인덱스 사이사이에 입력해줌\n",
    "text = 'abc'\n",
    "\",\".join(text)"
   ]
  },
  {
   "cell_type": "code",
   "execution_count": 114,
   "id": "9a6ef195",
   "metadata": {},
   "outputs": [],
   "source": [
    "# 마지막 인덱스번호 =  -1을써도 되고 = len(문자열) -1"
   ]
  },
  {
   "cell_type": "code",
   "execution_count": 115,
   "id": "58fd20c0",
   "metadata": {},
   "outputs": [],
   "source": [
    "x = 'abcdefg'"
   ]
  },
  {
   "cell_type": "code",
   "execution_count": 116,
   "id": "9cef6d0a",
   "metadata": {},
   "outputs": [
    {
     "data": {
      "text/plain": [
       "'g'"
      ]
     },
     "execution_count": 116,
     "metadata": {},
     "output_type": "execute_result"
    }
   ],
   "source": [
    "x[-1]"
   ]
  },
  {
   "cell_type": "code",
   "execution_count": 117,
   "id": "46da22a9",
   "metadata": {},
   "outputs": [
    {
     "data": {
      "text/plain": [
       "'g'"
      ]
     },
     "execution_count": 117,
     "metadata": {},
     "output_type": "execute_result"
    }
   ],
   "source": [
    "x[len(x)-1]"
   ]
  }
 ],
 "metadata": {
  "kernelspec": {
   "display_name": "Python 3 (ipykernel)",
   "language": "python",
   "name": "python3"
  },
  "language_info": {
   "codemirror_mode": {
    "name": "ipython",
    "version": 3
   },
   "file_extension": ".py",
   "mimetype": "text/x-python",
   "name": "python",
   "nbconvert_exporter": "python",
   "pygments_lexer": "ipython3",
   "version": "3.9.7"
  }
 },
 "nbformat": 4,
 "nbformat_minor": 5
}
