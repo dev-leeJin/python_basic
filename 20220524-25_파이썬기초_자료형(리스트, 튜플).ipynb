{
 "cells": [
  {
   "cell_type": "markdown",
   "id": "821e94f0",
   "metadata": {},
   "source": [
    "# 자료형\n",
    "\n",
    "여러 개의 아이템들을 저장하는 객체 = 여러 개의 값(데이터타입)을 저장하는 그릇\n",
    "\n",
    "## 1. 리스트(List)\n",
    "\n",
    "▶ 문법 기호 : [아이템1, 아이템2, 아이템3 .... ]\n",
    "\n",
    "\n",
    "▶ 용어 : 아이템 = 요소\n",
    "\n",
    "\n",
    "▶ 아이템으로 가질 수 있는 데이터 타입 : 문자, 숫자, 리스트, 딕셔너리 ...\n",
    "\n",
    "\n",
    "▶ 종류\n",
    "\n",
    "     * 아이템이 없는 리스트\n",
    "    \n",
    "     * 1차원 리스트\n",
    "    \n",
    "     * 다차원 리스트 \n",
    "    \n",
    "    \n",
    "▶ 특징\n",
    "\n",
    "     * 인덱스 활용\n",
    "    \n",
    "     * 다차원 리스트의 구조에 대한 이해"
   ]
  },
  {
   "cell_type": "markdown",
   "id": "18be5a7a",
   "metadata": {},
   "source": [
    "### 1. 생성하기"
   ]
  },
  {
   "cell_type": "code",
   "execution_count": 1,
   "id": "d8dbf8dd",
   "metadata": {},
   "outputs": [
    {
     "name": "stdout",
     "output_type": "stream",
     "text": [
      "<class 'list'> <class 'list'>\n",
      "[] []\n"
     ]
    }
   ],
   "source": [
    "# 빈 리스트 생성하기 = 아이템이 없는 리스트\n",
    "# 문법기호 : []\n",
    "# 함수 : list()\n",
    "a = []\n",
    "a2 = list()\n",
    "print(type(a), type(a2))\n",
    "print(a, a2)"
   ]
  },
  {
   "cell_type": "code",
   "execution_count": 2,
   "id": "5c0b02e1",
   "metadata": {},
   "outputs": [],
   "source": [
    "# 모든 데이터타입을 아이템으로 가질 수 있다.\n",
    "a3 = ['a', 10, 1.1, [1,23.1, 'a']]"
   ]
  },
  {
   "cell_type": "code",
   "execution_count": 4,
   "id": "e6f7eeac",
   "metadata": {},
   "outputs": [
    {
     "data": {
      "text/plain": [
       "[1, 23.1, 'a']"
      ]
     },
     "execution_count": 4,
     "metadata": {},
     "output_type": "execute_result"
    }
   ],
   "source": [
    "# 2차원 배열이며, 인덱스를 2개를 써야 하나의 값을 타겟으로 잡을 수 있다.\n",
    "a3[3] # 인덱스 3번째에 다시 3개가 들어감. "
   ]
  },
  {
   "cell_type": "code",
   "execution_count": 5,
   "id": "ecae395c",
   "metadata": {},
   "outputs": [
    {
     "data": {
      "text/plain": [
       "23.1"
      ]
     },
     "execution_count": 5,
     "metadata": {},
     "output_type": "execute_result"
    }
   ],
   "source": [
    "# 2차원 데이터의 값을 얻어오기 위해서는 리스트 내의 리스트를 확인해야 한다. \n",
    "a3[3][1]"
   ]
  },
  {
   "cell_type": "code",
   "execution_count": 6,
   "id": "63d31143",
   "metadata": {},
   "outputs": [
    {
     "data": {
      "text/plain": [
       "[1, 2, 3, [1, 2, 3, [10, 20]]]"
      ]
     },
     "execution_count": 6,
     "metadata": {},
     "output_type": "execute_result"
    }
   ],
   "source": [
    "# 3차원 배열 예시\n",
    "[1, 2, 3, [1, 2, 3, [10, 20]]]"
   ]
  },
  {
   "cell_type": "markdown",
   "id": "e1c297d1",
   "metadata": {},
   "source": [
    "## 2. 인덱싱, 슬라이싱\n",
    "\n",
    "리스트를 인덱스 번호로 접근하면 해당하는 위치의 값(아이템)을 가져온다.\n",
    "\n",
    "⛔ 복습\n",
    "\n",
    "    - 첫 번째 인덱스 번호는 ? = 0번 인덱스 = 첫 번째 아이템\n",
    "    \n",
    "    - 마지막 인덱스 번호는 ? = -1 = 마지막 아이템"
   ]
  },
  {
   "cell_type": "markdown",
   "id": "00a40c95",
   "metadata": {},
   "source": [
    "### 인덱싱(Indexing)\n",
    "\n",
    "⛔ 정의 복습 : 특정 위치에 있는 하나의 아이템에 접근한다. = 하나의 값을 가져온다."
   ]
  },
  {
   "cell_type": "code",
   "execution_count": 7,
   "id": "e22279e5",
   "metadata": {},
   "outputs": [],
   "source": [
    "# 리스트 생성하기\n",
    "a = [1, 2, 3, 4, 5, 6, 7, 8, 9, ]"
   ]
  },
  {
   "cell_type": "code",
   "execution_count": 8,
   "id": "853d7ee1",
   "metadata": {},
   "outputs": [
    {
     "data": {
      "text/plain": [
       "1"
      ]
     },
     "execution_count": 8,
     "metadata": {},
     "output_type": "execute_result"
    }
   ],
   "source": [
    "# 첫 번째 아이템 인덱스 번호 : 0\n",
    "# 인덱싱 문법 : 객체[인덱스 번호]\n",
    "a[0]"
   ]
  },
  {
   "cell_type": "code",
   "execution_count": 10,
   "id": "d472fd89",
   "metadata": {},
   "outputs": [
    {
     "data": {
      "text/plain": [
       "6"
      ]
     },
     "execution_count": 10,
     "metadata": {},
     "output_type": "execute_result"
    }
   ],
   "source": [
    "# 리스트에서 6이라는 아이템 가져오기\n",
    "a[5]"
   ]
  },
  {
   "cell_type": "code",
   "execution_count": 11,
   "id": "ad105b92",
   "metadata": {},
   "outputs": [
    {
     "data": {
      "text/plain": [
       "9"
      ]
     },
     "execution_count": 11,
     "metadata": {},
     "output_type": "execute_result"
    }
   ],
   "source": [
    "# 리스트의 마지막 값 확인하기\n",
    "a[-1]"
   ]
  },
  {
   "cell_type": "code",
   "execution_count": 12,
   "id": "38b500f3",
   "metadata": {},
   "outputs": [
    {
     "data": {
      "text/plain": [
       "9"
      ]
     },
     "execution_count": 12,
     "metadata": {},
     "output_type": "execute_result"
    }
   ],
   "source": [
    "# len()으로도 길이 확인 가능\n",
    "len(a)"
   ]
  },
  {
   "cell_type": "markdown",
   "id": "c4e78fc9",
   "metadata": {},
   "source": [
    "### 슬라이싱(Slicing)\n",
    "\n",
    "- 정의 복습  :  연속된 범위에 있는 하나 또는 하나 이상의 여러개 아이템에 접근한다\n",
    "- 문법기호 : 대상객체(문자열, 리스트)[시작번호:끝번호:간격] => 끝번호는 포함하지 않는다"
   ]
  },
  {
   "cell_type": "code",
   "execution_count": 13,
   "id": "71044a42",
   "metadata": {},
   "outputs": [
    {
     "data": {
      "text/plain": [
       "[1, 2, 3, 4, 5, 6, 7, 8, 9]"
      ]
     },
     "execution_count": 13,
     "metadata": {},
     "output_type": "execute_result"
    }
   ],
   "source": [
    "a"
   ]
  },
  {
   "cell_type": "code",
   "execution_count": 14,
   "id": "f5ae69c2",
   "metadata": {},
   "outputs": [
    {
     "data": {
      "text/plain": [
       "[1, 2, 3]"
      ]
     },
     "execution_count": 14,
     "metadata": {},
     "output_type": "execute_result"
    }
   ],
   "source": [
    "# 리스트의 0 ~ 2번째 아이템까지 확인하기\n",
    "# 시작번호 : 0\n",
    "# 끝번호 : 2 -> 3\n",
    "a[0:3]"
   ]
  },
  {
   "cell_type": "code",
   "execution_count": 15,
   "id": "218e4b7b",
   "metadata": {},
   "outputs": [
    {
     "data": {
      "text/plain": [
       "[4, 5, 6, 7, 8, 9]"
      ]
     },
     "execution_count": 15,
     "metadata": {},
     "output_type": "execute_result"
    }
   ],
   "source": [
    "# 리스트의 3번째 아이템부터 마지막 아이템까지 확인하기\n",
    "# 시작번호 : 3\n",
    "# 끝번호 : 생략\n",
    "a[3:]"
   ]
  },
  {
   "cell_type": "markdown",
   "id": "4d8af6f8",
   "metadata": {},
   "source": [
    "### << 연습문제 >>\n",
    "\n",
    "다음의 4차원 리스트에서 아래 조건에 맞는 값을 출력해주세요.\n",
    "\n",
    "         a = [1,2,3, ['a', [100, 200, ['강남', '서울'], 300,], 'b', 'c']]\n",
    "         \n",
    "         출력 결과 = 강남 & 300 & c"
   ]
  },
  {
   "cell_type": "code",
   "execution_count": 16,
   "id": "f0f74021",
   "metadata": {},
   "outputs": [],
   "source": [
    "a = [1,2,3, ['a', [100, 200, ['강남', '서울'], 300,], 'b', 'c']]"
   ]
  },
  {
   "cell_type": "code",
   "execution_count": 22,
   "id": "db05b98e",
   "metadata": {},
   "outputs": [
    {
     "data": {
      "text/plain": [
       "'c'"
      ]
     },
     "execution_count": 22,
     "metadata": {},
     "output_type": "execute_result"
    }
   ],
   "source": [
    "value3 = a[3][3]\n",
    "value3"
   ]
  },
  {
   "cell_type": "code",
   "execution_count": 26,
   "id": "20873148",
   "metadata": {},
   "outputs": [
    {
     "data": {
      "text/plain": [
       "'강남'"
      ]
     },
     "execution_count": 26,
     "metadata": {},
     "output_type": "execute_result"
    }
   ],
   "source": [
    "value1 = a [3][1][2][0]\n",
    "value1"
   ]
  },
  {
   "cell_type": "code",
   "execution_count": 27,
   "id": "0cbdb1cc",
   "metadata": {},
   "outputs": [
    {
     "data": {
      "text/plain": [
       "300"
      ]
     },
     "execution_count": 27,
     "metadata": {},
     "output_type": "execute_result"
    }
   ],
   "source": [
    "value2 =  a[3][1][3]\n",
    "value2"
   ]
  },
  {
   "cell_type": "code",
   "execution_count": 28,
   "id": "4b6e58fc",
   "metadata": {},
   "outputs": [
    {
     "name": "stdout",
     "output_type": "stream",
     "text": [
      "출력 결과 = 강남 & 300 & c\n"
     ]
    }
   ],
   "source": [
    "print(\"출력 결과 = %s & %s & %s\" %(value1, value2, value3)) "
   ]
  },
  {
   "cell_type": "markdown",
   "id": "a3cf1f23",
   "metadata": {},
   "source": [
    "### 3. 아이템 추가하기 : 연산자와 함수를 이용한 리스트 아이템 추가하기\n",
    "\n",
    "1) 산술연산자 : +, *\n",
    "\n",
    "2) 리스트의 함수(메서드) : 리스트.append(), 리스트.extend(), 리스트.insert()"
   ]
  },
  {
   "cell_type": "markdown",
   "id": "1e53364b",
   "metadata": {},
   "source": [
    "### 3-1) 산술연산자\n",
    "\n",
    "* 종류 : +,*\n",
    "* 특징 : 원본에 반영되지 않는다"
   ]
  },
  {
   "cell_type": "code",
   "execution_count": 29,
   "id": "6ebc844c",
   "metadata": {},
   "outputs": [],
   "source": [
    "# 리스트끼리 연결 : +\n",
    "a = [1, 2, 3]\n",
    "b = [4, 5, 6]"
   ]
  },
  {
   "cell_type": "code",
   "execution_count": 30,
   "id": "7ce00fdd",
   "metadata": {},
   "outputs": [
    {
     "data": {
      "text/plain": [
       "[1, 2, 3, 4, 5, 6]"
      ]
     },
     "execution_count": 30,
     "metadata": {},
     "output_type": "execute_result"
    }
   ],
   "source": [
    "a + b"
   ]
  },
  {
   "cell_type": "code",
   "execution_count": 31,
   "id": "1c9d903e",
   "metadata": {},
   "outputs": [
    {
     "name": "stdout",
     "output_type": "stream",
     "text": [
      "[1, 2, 3] [4, 5, 6]\n"
     ]
    }
   ],
   "source": [
    "print(a,b)"
   ]
  },
  {
   "cell_type": "code",
   "execution_count": 32,
   "id": "e66494ea",
   "metadata": {},
   "outputs": [
    {
     "data": {
      "text/plain": [
       "[4, 5, 6, 4, 5, 6, 4, 5, 6]"
      ]
     },
     "execution_count": 32,
     "metadata": {},
     "output_type": "execute_result"
    }
   ],
   "source": [
    "# 리스트 대상 곱하기 : *\n",
    "b * 3 # b + b + b"
   ]
  },
  {
   "cell_type": "code",
   "execution_count": 33,
   "id": "53624562",
   "metadata": {},
   "outputs": [
    {
     "data": {
      "text/plain": [
       "[4, 5, 6]"
      ]
     },
     "execution_count": 33,
     "metadata": {},
     "output_type": "execute_result"
    }
   ],
   "source": [
    "b"
   ]
  },
  {
   "cell_type": "markdown",
   "id": "3d324bf6",
   "metadata": {},
   "source": [
    "### 4. 리스트 타입의 함수 (method)\n",
    "* 종류\n",
    "\n",
    "    - 리스트.append(추가할 아이템) : 인자값을 통채로 리스트의 마지막 아이템으로 추가, 인자값은 1개만 받음 = 1개의 아이템만 추가 가능\n",
    "\n",
    "    - 리스트.extend(추가할 아이템) : 인자값의 아이템을 뽑아서 리스트의 마지막 아이템으로 추가, 인자값은 1개만 받음, 단 여러 개의 아이템 추가 가능\n",
    "    \n",
    "    - 리스트.insert(인덱스번호, 추가할 아이템) : 위치를 지정해서 아이템을 삽입할 수 있음, 통채로 아이템을 추가\n",
    "    \n",
    "    - 특징 : 원본에 바로 적용이 됨\n",
    "    \n",
    "    \n",
    "* 참고 연산자 : in 연산자 (결과값은 bool type)"
   ]
  },
  {
   "cell_type": "code",
   "execution_count": 35,
   "id": "57d5a8e4",
   "metadata": {},
   "outputs": [
    {
     "data": {
      "text/plain": [
       "[1, 2, 3]"
      ]
     },
     "execution_count": 35,
     "metadata": {},
     "output_type": "execute_result"
    }
   ],
   "source": [
    "# 리스트 생성하기\n",
    "a = [1, 2, 3]\n",
    "a"
   ]
  },
  {
   "cell_type": "code",
   "execution_count": 36,
   "id": "27d20ad6",
   "metadata": {},
   "outputs": [
    {
     "data": {
      "text/plain": [
       "[1, 2, 3, 4]"
      ]
     },
     "execution_count": 36,
     "metadata": {},
     "output_type": "execute_result"
    }
   ],
   "source": [
    "# append()\n",
    "# 문법 : 리스트.append(추가할 아이템)\n",
    "a.append(4)\n",
    "a"
   ]
  },
  {
   "cell_type": "code",
   "execution_count": 37,
   "id": "cd1400fe",
   "metadata": {},
   "outputs": [
    {
     "data": {
      "text/plain": [
       "[1, 2, 3, 4, [5, 6]]"
      ]
     },
     "execution_count": 37,
     "metadata": {},
     "output_type": "execute_result"
    }
   ],
   "source": [
    "# 추가할 자료로 [5,6] 을 제공한다면\n",
    "a.append([5,6])\n",
    "a"
   ]
  },
  {
   "cell_type": "code",
   "execution_count": 38,
   "id": "308b424f",
   "metadata": {},
   "outputs": [
    {
     "data": {
      "text/plain": [
       "[5, 6]"
      ]
     },
     "execution_count": 38,
     "metadata": {},
     "output_type": "execute_result"
    }
   ],
   "source": [
    "a[4]"
   ]
  },
  {
   "cell_type": "code",
   "execution_count": 41,
   "id": "21891d3d",
   "metadata": {},
   "outputs": [
    {
     "data": {
      "text/plain": [
       "[1, 2, 3, 4, [5, 6], 7, 8, 9, 7, 8, 9, 7, 8, 9]"
      ]
     },
     "execution_count": 41,
     "metadata": {},
     "output_type": "execute_result"
    }
   ],
   "source": [
    "# extend()\n",
    "# 문법 : 대상리스트.extend(리스트)\n",
    "# append()와의 차이점 : 인자값으로 리스트만 받을 수 있다.\n",
    "# 리스트 길이만큼 인덱스가 연장된다(append는 무조건 1만큼 연장됨)\n",
    "a.extend([7,8, 9])\n",
    "a"
   ]
  },
  {
   "cell_type": "code",
   "execution_count": 42,
   "id": "c7da9efa",
   "metadata": {},
   "outputs": [
    {
     "data": {
      "text/plain": [
       "[1, 2, 3, 4, [5, 6], 7, 8, 9, 7, 8, 9, 7, 8, 9, 10]"
      ]
     },
     "execution_count": 42,
     "metadata": {},
     "output_type": "execute_result"
    }
   ],
   "source": [
    "a.extend([10]) # 하나를 넣어도 무조건 리스트형식으로 넣어야 에러가 나지 않는다. \n",
    "a"
   ]
  },
  {
   "cell_type": "code",
   "execution_count": 43,
   "id": "6210982d",
   "metadata": {},
   "outputs": [
    {
     "data": {
      "text/plain": [
       "[1, 2, 3, 4, [5, 6], 7, 8, 9, 7, 8, 9, 7, 8, 9, 10]"
      ]
     },
     "execution_count": 43,
     "metadata": {},
     "output_type": "execute_result"
    }
   ],
   "source": [
    "a"
   ]
  },
  {
   "cell_type": "code",
   "execution_count": 44,
   "id": "6a138058",
   "metadata": {},
   "outputs": [
    {
     "data": {
      "text/plain": [
       "[100, 1, 2, 3, 4, [5, 6], 7, 8, 9, 7, 8, 9, 7, 8, 9, 10]"
      ]
     },
     "execution_count": 44,
     "metadata": {},
     "output_type": "execute_result"
    }
   ],
   "source": [
    "# insert()\n",
    "# 문법 : 대상리스트.insert(인덱스번호, 추가할아이템)\n",
    "# 다른 함수와의 차이점 : 아이템 추가가 마지막 인덱스가 아닌 지정한 인덱스를 기준으로\n",
    "# append와의 유사점 : 하나의 인덱스에 다 때려박음\n",
    "a.insert(0,100)\n",
    "a"
   ]
  },
  {
   "cell_type": "code",
   "execution_count": 46,
   "id": "0b058ec5",
   "metadata": {},
   "outputs": [
    {
     "data": {
      "text/plain": [
       "[[99, 98], 100, 1, 2, 3, 4, [5, 6], 7, 8, 9, 7, 8, 9, 7, 8, 9, 10]"
      ]
     },
     "execution_count": 46,
     "metadata": {},
     "output_type": "execute_result"
    }
   ],
   "source": [
    "a.insert(0,[99,98])\n",
    "a"
   ]
  },
  {
   "cell_type": "code",
   "execution_count": 47,
   "id": "bea4732a",
   "metadata": {},
   "outputs": [
    {
     "data": {
      "text/plain": [
       "False"
      ]
     },
     "execution_count": 47,
     "metadata": {},
     "output_type": "execute_result"
    }
   ],
   "source": [
    "# in 키워드는 특정 요소가 리스트 내에 있는지 없는지 여부를 물어봅니다.\n",
    "# 값 in 리스트\n",
    "# 값 100이 a 리스트 내에 존재하나요? => 100 in a\n",
    "99 in a"
   ]
  },
  {
   "cell_type": "code",
   "execution_count": 48,
   "id": "1387656f",
   "metadata": {},
   "outputs": [
    {
     "data": {
      "text/plain": [
       "[[99, 98], 100, 1, 2, 3, 4, [5, 6], 7, 8, 9, 7, 8, 9, 7, 8, 9, 10]"
      ]
     },
     "execution_count": 48,
     "metadata": {},
     "output_type": "execute_result"
    }
   ],
   "source": [
    "a"
   ]
  },
  {
   "cell_type": "code",
   "execution_count": 50,
   "id": "ae2c083d",
   "metadata": {},
   "outputs": [
    {
     "data": {
      "text/plain": [
       "True"
      ]
     },
     "execution_count": 50,
     "metadata": {},
     "output_type": "execute_result"
    }
   ],
   "source": [
    "99 in a[0]"
   ]
  },
  {
   "cell_type": "code",
   "execution_count": 51,
   "id": "fdd48b0e",
   "metadata": {},
   "outputs": [
    {
     "data": {
      "text/plain": [
       "False"
      ]
     },
     "execution_count": 51,
     "metadata": {},
     "output_type": "execute_result"
    }
   ],
   "source": [
    "# not in 키워드는 특정 요소가 리스트 내부에 없는지를 물어봅니다.\n",
    "# 값 not in 리스트\n",
    "# 50이 a 리스트에 없습니까 => 50 not in a\n",
    "10 not in a"
   ]
  },
  {
   "cell_type": "markdown",
   "id": "dd7a3ffe",
   "metadata": {},
   "source": [
    "###  <<연습문제>>\n",
    "\n",
    "아래의 순서에 맞추어 직접 실행해보세요\n",
    "\n",
    "1) 빈 리스트 생성\n",
    "\n",
    "2) 1번 리스트에 숫자 1,2,3 을 아이템으로 추가\n",
    "\n",
    "3) 2번 리스트에 3번째 위치에 문자 100을 아이템으로 추가\n",
    "\n",
    "4) 3번 리스트의 마지막에 문자 A,B를 아이템으로 가진 리스트를 아이템으로 추가\n",
    "\n",
    "5) 4번 리스트의 아이템을 2번 반복해서 가지는 리스트를 출력"
   ]
  },
  {
   "cell_type": "code",
   "execution_count": 61,
   "id": "45f0f38f",
   "metadata": {},
   "outputs": [],
   "source": [
    "b =[]"
   ]
  },
  {
   "cell_type": "code",
   "execution_count": 62,
   "id": "e8c4da52",
   "metadata": {},
   "outputs": [
    {
     "data": {
      "text/plain": [
       "[1, 2, 3]"
      ]
     },
     "execution_count": 62,
     "metadata": {},
     "output_type": "execute_result"
    }
   ],
   "source": [
    "b.extend([1,2,3])\n",
    "b"
   ]
  },
  {
   "cell_type": "code",
   "execution_count": 63,
   "id": "b7faf4fc",
   "metadata": {},
   "outputs": [
    {
     "data": {
      "text/plain": [
       "[1, 2, 3, 100]"
      ]
     },
     "execution_count": 63,
     "metadata": {},
     "output_type": "execute_result"
    }
   ],
   "source": [
    "b.insert(3,100)\n",
    "b"
   ]
  },
  {
   "cell_type": "code",
   "execution_count": 64,
   "id": "1c9b0b9a",
   "metadata": {},
   "outputs": [
    {
     "data": {
      "text/plain": [
       "[1, 2, 3, 100, ['A', 'B']]"
      ]
     },
     "execution_count": 64,
     "metadata": {},
     "output_type": "execute_result"
    }
   ],
   "source": [
    "b.append(['A','B'])\n",
    "b"
   ]
  },
  {
   "cell_type": "code",
   "execution_count": 65,
   "id": "ba047ac2",
   "metadata": {},
   "outputs": [
    {
     "data": {
      "text/plain": [
       "[1, 2, 3, 100, ['A', 'B'], 1, 2, 3, 100, ['A', 'B']]"
      ]
     },
     "execution_count": 65,
     "metadata": {},
     "output_type": "execute_result"
    }
   ],
   "source": [
    "b * 2"
   ]
  },
  {
   "cell_type": "markdown",
   "id": "8d876c1e",
   "metadata": {},
   "source": [
    "#### 해답"
   ]
  },
  {
   "cell_type": "code",
   "execution_count": 66,
   "id": "755e30b0",
   "metadata": {},
   "outputs": [
    {
     "data": {
      "text/plain": [
       "[]"
      ]
     },
     "execution_count": 66,
     "metadata": {},
     "output_type": "execute_result"
    }
   ],
   "source": [
    "# 1) 빈 리스트 생성\n",
    "list1 = list()\n",
    "list1"
   ]
  },
  {
   "cell_type": "code",
   "execution_count": 67,
   "id": "91b900d8",
   "metadata": {},
   "outputs": [
    {
     "data": {
      "text/plain": [
       "[1, 2, 3]"
      ]
     },
     "execution_count": 67,
     "metadata": {},
     "output_type": "execute_result"
    }
   ],
   "source": [
    "# 2) 1번 리스트에 숫자 1,2,3을 아이템으로 추가\n",
    "# .append(), .extend()중 하나를 사용\n",
    "# list1.extend([1,2,3])\n",
    "list1.append(1)\n",
    "list1.append(2)\n",
    "list1.append(3)\n",
    "list1"
   ]
  },
  {
   "cell_type": "code",
   "execution_count": 68,
   "id": "1fa9ae08",
   "metadata": {},
   "outputs": [],
   "source": [
    "# 3) 2번 리스트의 인덱스 2번째 위치에 문자 100을 아이템으로 추가\n",
    "list1.insert(2,100)"
   ]
  },
  {
   "cell_type": "code",
   "execution_count": 69,
   "id": "0faeef07",
   "metadata": {},
   "outputs": [
    {
     "data": {
      "text/plain": [
       "[1, 2, 100, 3]"
      ]
     },
     "execution_count": 69,
     "metadata": {},
     "output_type": "execute_result"
    }
   ],
   "source": [
    "list1"
   ]
  },
  {
   "cell_type": "code",
   "execution_count": 70,
   "id": "d7050545",
   "metadata": {},
   "outputs": [
    {
     "data": {
      "text/plain": [
       "[1, 2, 100, 3, ['A', 'B']]"
      ]
     },
     "execution_count": 70,
     "metadata": {},
     "output_type": "execute_result"
    }
   ],
   "source": [
    "# 4) 3번 리스느의 마지막에 문자 A,B를 아이템으로 가진 리스트를 아이템으로 추가\n",
    "list1.append(['A',\"B\"])\n",
    "list1"
   ]
  },
  {
   "cell_type": "code",
   "execution_count": 71,
   "id": "177841ab",
   "metadata": {},
   "outputs": [
    {
     "data": {
      "text/plain": [
       "[1, 2, 100, 3, ['A', 'B'], 1, 2, 100, 3, ['A', 'B']]"
      ]
     },
     "execution_count": 71,
     "metadata": {},
     "output_type": "execute_result"
    }
   ],
   "source": [
    "# 5) 4번 리스트의 아이템을 2번 반복해서 가지는 리스트 출력\n",
    "list1 * 2"
   ]
  },
  {
   "cell_type": "markdown",
   "id": "0c56ef9f",
   "metadata": {},
   "source": [
    "### 5. 아이템 수정하기\n",
    "\n",
    "- 인덱싱, 슬라이싱을 이용해서 아이템을 수정할 수 있다."
   ]
  },
  {
   "cell_type": "code",
   "execution_count": 1,
   "id": "10492ce0",
   "metadata": {},
   "outputs": [],
   "source": [
    "# 리스트 생성하기\n",
    "a = [1,2,3,4]"
   ]
  },
  {
   "cell_type": "code",
   "execution_count": 2,
   "id": "6db3c319",
   "metadata": {},
   "outputs": [
    {
     "data": {
      "text/plain": [
       "[[10, 20], 2, 3, 4]"
      ]
     },
     "execution_count": 2,
     "metadata": {},
     "output_type": "execute_result"
    }
   ],
   "source": [
    "# 하나의 아이템 수정하기\n",
    "# 0번 인덱스에 있는 값을 [10,20]으로 수정하기\n",
    "# 결과 :[[10,20,],2,3,4]\n",
    "a[0] = [10,20]\n",
    "a"
   ]
  },
  {
   "cell_type": "code",
   "execution_count": 3,
   "id": "60697090",
   "metadata": {},
   "outputs": [
    {
     "data": {
      "text/plain": [
       "[10, 20, 2, 3, 4]"
      ]
     },
     "execution_count": 3,
     "metadata": {},
     "output_type": "execute_result"
    }
   ],
   "source": [
    "# 연속된 범위의 여러 아이템 수정하기\n",
    "# 0번 인덱스만 선택 => 슬라이싱으로 선택\n",
    "a2 = [1,2,3,4]\n",
    "a2[0:1] = [10,20] # 0번째부터 0(1-1)번째까지\n",
    "a2"
   ]
  },
  {
   "cell_type": "code",
   "execution_count": 6,
   "id": "71f113ff",
   "metadata": {},
   "outputs": [
    {
     "ename": "TypeError",
     "evalue": "can only assign an iterable",
     "output_type": "error",
     "traceback": [
      "\u001b[1;31m---------------------------------------------------------------------------\u001b[0m",
      "\u001b[1;31mTypeError\u001b[0m                                 Traceback (most recent call last)",
      "\u001b[1;32m~\\AppData\\Local\\Temp/ipykernel_77252/738413017.py\u001b[0m in \u001b[0;36m<module>\u001b[1;34m\u001b[0m\n\u001b[0;32m      1\u001b[0m \u001b[1;31m# 슬라이싱으로 값을 할당할 때의 주의점 : 전달하는 값은 1개여도 리스트로\u001b[0m\u001b[1;33m\u001b[0m\u001b[1;33m\u001b[0m\u001b[0m\n\u001b[1;32m----> 2\u001b[1;33m \u001b[0ma2\u001b[0m\u001b[1;33m[\u001b[0m\u001b[1;36m0\u001b[0m\u001b[1;33m:\u001b[0m\u001b[1;36m1\u001b[0m\u001b[1;33m]\u001b[0m \u001b[1;33m=\u001b[0m \u001b[1;36m100\u001b[0m\u001b[1;33m\u001b[0m\u001b[1;33m\u001b[0m\u001b[0m\n\u001b[0m",
      "\u001b[1;31mTypeError\u001b[0m: can only assign an iterable"
     ]
    }
   ],
   "source": [
    "# 슬라이싱으로 값을 할당할 때의 주의점 : 전달하는 값은 1개여도 리스트로\n",
    "a2[0:1] = 100"
   ]
  },
  {
   "cell_type": "markdown",
   "id": "91af5dfe",
   "metadata": {},
   "source": [
    "### <<연습문제>>\n",
    "아래 조건에 맞추어 리스트를 수정하세요\n",
    "\n",
    "    [ 10, 99, 3, '사과', 73, '바나나' ]\n",
    "\n",
    "조건1) '사과'를 'apple'로 수정\n",
    "\n",
    "조건2) 99, 3을 9, 33으로 수정(슬라이싱으로 교체하세요)\n",
    "\n",
    "조건3) 73을 [73,74]로 수정"
   ]
  },
  {
   "cell_type": "code",
   "execution_count": 7,
   "id": "dc54fec3",
   "metadata": {},
   "outputs": [],
   "source": [
    "a = [10, 99, 3, '사과', 73, '바나나']"
   ]
  },
  {
   "cell_type": "code",
   "execution_count": 8,
   "id": "4dc60b36",
   "metadata": {},
   "outputs": [
    {
     "data": {
      "text/plain": [
       "[10, 99, 3, 'apple', 73, '바나나']"
      ]
     },
     "execution_count": 8,
     "metadata": {},
     "output_type": "execute_result"
    }
   ],
   "source": [
    "# '사과'를 'apple'로 수정\n",
    "a[3] = 'apple'\n",
    "a"
   ]
  },
  {
   "cell_type": "code",
   "execution_count": 10,
   "id": "6b736ef3",
   "metadata": {},
   "outputs": [
    {
     "data": {
      "text/plain": [
       "[10, 9, 33, 'apple', 73, '바나나']"
      ]
     },
     "execution_count": 10,
     "metadata": {},
     "output_type": "execute_result"
    }
   ],
   "source": [
    "# 99, 3을 9, 33으로 수정\n",
    "a[1:3] = [9, 33]\n",
    "a"
   ]
  },
  {
   "cell_type": "code",
   "execution_count": 11,
   "id": "0bd9a807",
   "metadata": {},
   "outputs": [],
   "source": [
    "# 73을 [73, 74]로 수정\n",
    "a[-2] = [73,74]"
   ]
  },
  {
   "cell_type": "code",
   "execution_count": 12,
   "id": "3a6ec66f",
   "metadata": {},
   "outputs": [
    {
     "data": {
      "text/plain": [
       "[10, 9, 33, 'apple', [73, 74], '바나나']"
      ]
     },
     "execution_count": 12,
     "metadata": {},
     "output_type": "execute_result"
    }
   ],
   "source": [
    "a"
   ]
  },
  {
   "cell_type": "markdown",
   "id": "f1db9e8d",
   "metadata": {},
   "source": [
    "### 6. 아이템 삭제하기\n",
    "\n",
    "* 슬라이싱\n",
    "\n",
    "* del 키워드 + 인덱싱/슬라이싱\n",
    "\n",
    "* remove() 메서드 : 값을 기준으로 삭제\n",
    "\n",
    "* pop()\n",
    "    - 인자값에 아무것도 입력하지 않거나 -1을 입력하면 마지막 인덱스를 삭제\n",
    "    - 특정 인덱스를 지정하여 삭제"
   ]
  },
  {
   "cell_type": "code",
   "execution_count": 13,
   "id": "57276f9a",
   "metadata": {},
   "outputs": [],
   "source": [
    "# 리스트 생성하기\n",
    "a1 = [10, 20, 30, 40, 50]\n",
    "a2 = [10, 20, 30, 40, 50]"
   ]
  },
  {
   "cell_type": "code",
   "execution_count": 14,
   "id": "778ba4b4",
   "metadata": {},
   "outputs": [
    {
     "data": {
      "text/plain": [
       "[20, 30, 40, 50]"
      ]
     },
     "execution_count": 14,
     "metadata": {},
     "output_type": "execute_result"
    }
   ],
   "source": [
    "# gㅏ나의 아이템 삭제하기 1 - 슬라이싱 + 빈 리스트 대입\n",
    "# 0번 인덱스 값 삭제하기\n",
    "a1[0:1] = []\n",
    "a1"
   ]
  },
  {
   "cell_type": "code",
   "execution_count": 15,
   "id": "dd1f9b14",
   "metadata": {},
   "outputs": [
    {
     "data": {
      "text/plain": [
       "[[], 20, 30, 40, 50]"
      ]
     },
     "execution_count": 15,
     "metadata": {},
     "output_type": "execute_result"
    }
   ],
   "source": [
    "# 만약 슬라이싱이 아닌 인덱싱을 이용한 빈 리스트 대입시는 빈 리스트가 해당 번호에 대입\n",
    "a2[0] = []\n",
    "a2"
   ]
  },
  {
   "cell_type": "code",
   "execution_count": 16,
   "id": "d9102911",
   "metadata": {},
   "outputs": [
    {
     "data": {
      "text/plain": [
       "[20, 30, 40]"
      ]
     },
     "execution_count": 16,
     "metadata": {},
     "output_type": "execute_result"
    }
   ],
   "source": [
    "# 하나의 아이템 삭제하기 2 - del 키워드 + 인덱싱\n",
    "del a1[-1]\n",
    "a1"
   ]
  },
  {
   "cell_type": "code",
   "execution_count": 17,
   "id": "65c5758c",
   "metadata": {},
   "outputs": [
    {
     "ename": "NameError",
     "evalue": "name 'a2' is not defined",
     "output_type": "error",
     "traceback": [
      "\u001b[1;31m---------------------------------------------------------------------------\u001b[0m",
      "\u001b[1;31mNameError\u001b[0m                                 Traceback (most recent call last)",
      "\u001b[1;32m~\\AppData\\Local\\Temp/ipykernel_77252/1300337635.py\u001b[0m in \u001b[0;36m<module>\u001b[1;34m\u001b[0m\n\u001b[0;32m      2\u001b[0m \u001b[1;31m# 리스트 전체를 del키워드로 걸면, 리스트가 전부 삭제됩니다.\u001b[0m\u001b[1;33m\u001b[0m\u001b[1;33m\u001b[0m\u001b[0m\n\u001b[0;32m      3\u001b[0m \u001b[1;32mdel\u001b[0m \u001b[0ma2\u001b[0m\u001b[1;33m\u001b[0m\u001b[1;33m\u001b[0m\u001b[0m\n\u001b[1;32m----> 4\u001b[1;33m \u001b[0ma2\u001b[0m\u001b[1;33m\u001b[0m\u001b[1;33m\u001b[0m\u001b[0m\n\u001b[0m",
      "\u001b[1;31mNameError\u001b[0m: name 'a2' is not defined"
     ]
    }
   ],
   "source": [
    "# del 키워드는 원래 해당 변수나 자료를 삭제해버립니다.\n",
    "# 리스트 전체를 del키워드로 걸면, 리스트가 전부 삭제됩니다.\n",
    "del a2 \n",
    "a2"
   ]
  },
  {
   "cell_type": "code",
   "execution_count": 18,
   "id": "c19fc8e4",
   "metadata": {},
   "outputs": [],
   "source": [
    "# 하나의 아이템 삭제하기 3 - remove() 메서드\n",
    "# 문법 : 리스트.remove(삭제할 자료를 직접 기입(인덱스가 아님!!))\n",
    "a =[1, 2, 3, 3, 3, 4, 5]"
   ]
  },
  {
   "cell_type": "code",
   "execution_count": 19,
   "id": "2e204dba",
   "metadata": {},
   "outputs": [
    {
     "data": {
      "text/plain": [
       "[1, 2, 3, 3, 3, 4]"
      ]
     },
     "execution_count": 19,
     "metadata": {},
     "output_type": "execute_result"
    }
   ],
   "source": [
    "# 5라는 값을 삭제 (인덱스번호로는 6)\n",
    "a.remove(5)\n",
    "a"
   ]
  },
  {
   "cell_type": "code",
   "execution_count": 20,
   "id": "e95b6609",
   "metadata": {},
   "outputs": [
    {
     "data": {
      "text/plain": [
       "[1, 2, 3, 3, 4]"
      ]
     },
     "execution_count": 20,
     "metadata": {},
     "output_type": "execute_result"
    }
   ],
   "source": [
    "# 중복된 아이템이 존재하면 가장 앞서는 인덱스 자료 하나만 삭제\n",
    "a.remove(3)\n",
    "a"
   ]
  },
  {
   "cell_type": "code",
   "execution_count": 21,
   "id": "efd9a23c",
   "metadata": {},
   "outputs": [
    {
     "data": {
      "text/plain": [
       "[1, 2]"
      ]
     },
     "execution_count": 21,
     "metadata": {},
     "output_type": "execute_result"
    }
   ],
   "source": [
    "# del 키워드는 단일자료뿐만 아니라 연속된 범위 (슬라이싱)자료 삭제도 가능합니다.\n",
    "del a[2:]\n",
    "a"
   ]
  },
  {
   "cell_type": "code",
   "execution_count": 22,
   "id": "b63cc04e",
   "metadata": {},
   "outputs": [
    {
     "data": {
      "text/plain": [
       "[1, 2, 3, 4, 5, 6]"
      ]
     },
     "execution_count": 22,
     "metadata": {},
     "output_type": "execute_result"
    }
   ],
   "source": [
    "# 하나의 아이템 삭제하기 4 - pop() 메서드\n",
    "# 마지막에 위치한 값이 몇이었는지 확인시켜주고 삭제함\n",
    "a = [1, 2, 3, 4, 5]\n",
    "a.append(6)\n",
    "a"
   ]
  },
  {
   "cell_type": "code",
   "execution_count": 23,
   "id": "d518279d",
   "metadata": {},
   "outputs": [
    {
     "data": {
      "text/plain": [
       "6"
      ]
     },
     "execution_count": 23,
     "metadata": {},
     "output_type": "execute_result"
    }
   ],
   "source": [
    "a.pop() #인덱스번호를 미기입하면 마지막 인덱스 자료 삭제(6삭제)"
   ]
  },
  {
   "cell_type": "code",
   "execution_count": 24,
   "id": "0434c266",
   "metadata": {},
   "outputs": [
    {
     "data": {
      "text/plain": [
       "[1, 2, 3, 4, 5]"
      ]
     },
     "execution_count": 24,
     "metadata": {},
     "output_type": "execute_result"
    }
   ],
   "source": [
    "a"
   ]
  },
  {
   "cell_type": "code",
   "execution_count": 25,
   "id": "f4061aef",
   "metadata": {},
   "outputs": [
    {
     "data": {
      "text/plain": [
       "3"
      ]
     },
     "execution_count": 25,
     "metadata": {},
     "output_type": "execute_result"
    }
   ],
   "source": [
    "# 삭제하려는 인덱스번호 지정시 마지막이 아닌 입력된 인덱스 자료 삭제\n",
    "a.pop(2)"
   ]
  },
  {
   "cell_type": "code",
   "execution_count": 26,
   "id": "793d4ea1",
   "metadata": {},
   "outputs": [
    {
     "data": {
      "text/plain": [
       "[1, 2, 4, 5]"
      ]
     },
     "execution_count": 26,
     "metadata": {},
     "output_type": "execute_result"
    }
   ],
   "source": [
    "a"
   ]
  },
  {
   "cell_type": "markdown",
   "id": "692189e6",
   "metadata": {},
   "source": [
    "### 7. 아이템 정렬하기\n",
    "\n",
    "* 함수\n",
    "    \n",
    "    -sort() : 기본동작 = 오름차순정렬(작은값이 먼저오고 큰값이 나중에)\n",
    "    \n",
    "    -reverse() : 기존 리스트의 처음과 마지막 순서를 뒤집어서 나열"
   ]
  },
  {
   "cell_type": "code",
   "execution_count": 27,
   "id": "bdc0c974",
   "metadata": {},
   "outputs": [
    {
     "data": {
      "text/plain": [
       "[10, -30, 57, -33, 71, 1, 34, -2]"
      ]
     },
     "execution_count": 27,
     "metadata": {},
     "output_type": "execute_result"
    }
   ],
   "source": [
    "a = [10, -30, 57, -33, 71, 1, 34, -2]\n",
    "a"
   ]
  },
  {
   "cell_type": "code",
   "execution_count": 28,
   "id": "bb001714",
   "metadata": {},
   "outputs": [],
   "source": [
    "# 값을 오른차순으로 정렬 : sort() 기본동작 / sort(reverse=False)\n",
    "# *** 원본 리스트가 시뮬레이션이 아니라 아예 변경됩니다.\n",
    "a.sort()"
   ]
  },
  {
   "cell_type": "code",
   "execution_count": 29,
   "id": "f1f72a54",
   "metadata": {},
   "outputs": [
    {
     "data": {
      "text/plain": [
       "[-33, -30, -2, 1, 10, 34, 57, 71]"
      ]
     },
     "execution_count": 29,
     "metadata": {},
     "output_type": "execute_result"
    }
   ],
   "source": [
    "a"
   ]
  },
  {
   "cell_type": "code",
   "execution_count": 30,
   "id": "9df2aafb",
   "metadata": {},
   "outputs": [
    {
     "data": {
      "text/plain": [
       "[71, 57, 34, 10, 1, -2, -30, -33]"
      ]
     },
     "execution_count": 30,
     "metadata": {},
     "output_type": "execute_result"
    }
   ],
   "source": [
    "# 값이 오름차순이 아닌 내림차순으로 정렬하는 경우 : .sort(reverse = True)\n",
    "a.sort(reverse=True)\n",
    "a"
   ]
  },
  {
   "cell_type": "code",
   "execution_count": 31,
   "id": "b0f4d31d",
   "metadata": {},
   "outputs": [],
   "source": [
    "# 값을 인덱스기준으로 반대로 뒤집기 : reverse()\n",
    "b = [10, 71, 32, 46, 5, 95]"
   ]
  },
  {
   "cell_type": "code",
   "execution_count": 32,
   "id": "6f61b722",
   "metadata": {},
   "outputs": [
    {
     "data": {
      "text/plain": [
       "[95, 5, 46, 32, 71, 10]"
      ]
     },
     "execution_count": 32,
     "metadata": {},
     "output_type": "execute_result"
    }
   ],
   "source": [
    "b.reverse()\n",
    "b"
   ]
  },
  {
   "cell_type": "markdown",
   "id": "8f861c06",
   "metadata": {},
   "source": [
    "### 8. 아이템 개수 세기\n",
    "\n",
    "* 함수\n",
    "\n",
    "    - 리스트.count(값) : 값이 리스트에 몇 개 있는지 개수를 반환 => 특정 아이템의 개수를 반환\n",
    "    \n",
    "    - len() : 파이썬 내장함수, 인자값으로 전달받은 객체의 길이 => 전체 아이템의 개수를 반환"
   ]
  },
  {
   "cell_type": "code",
   "execution_count": 33,
   "id": "74b76319",
   "metadata": {},
   "outputs": [],
   "source": [
    "a = [1, 2, 3, 3, 3, 4, 5, 6]"
   ]
  },
  {
   "cell_type": "code",
   "execution_count": 35,
   "id": "f1c5c94e",
   "metadata": {},
   "outputs": [
    {
     "data": {
      "text/plain": [
       "3"
      ]
     },
     "execution_count": 35,
     "metadata": {},
     "output_type": "execute_result"
    }
   ],
   "source": [
    "# 특정 아이템의 개수 : count()\n",
    "a.count(3)"
   ]
  },
  {
   "cell_type": "code",
   "execution_count": 36,
   "id": "08e749e4",
   "metadata": {},
   "outputs": [
    {
     "data": {
      "text/plain": [
       "8"
      ]
     },
     "execution_count": 36,
     "metadata": {},
     "output_type": "execute_result"
    }
   ],
   "source": [
    "# 전체 아이템의 개수 : len()\n",
    "len(a)"
   ]
  },
  {
   "cell_type": "markdown",
   "id": "2f9fb992",
   "metadata": {},
   "source": [
    "### 9. 리스트 복사하기\n",
    "\n",
    "* 할당기호(=)\n",
    "\n",
    "* copy() 메서드|\n",
    "\n",
    "* list()\n",
    "\n",
    "* 슬라이싱"
   ]
  },
  {
   "cell_type": "code",
   "execution_count": 37,
   "id": "d0cb07da",
   "metadata": {},
   "outputs": [],
   "source": [
    "# 1. 할당기호(=)로 복사하기\n",
    "a = [1, 2, 3, 4, 5]\n",
    "b = a"
   ]
  },
  {
   "cell_type": "code",
   "execution_count": 38,
   "id": "52f4aa8e",
   "metadata": {},
   "outputs": [
    {
     "name": "stdout",
     "output_type": "stream",
     "text": [
      "[1, 2, 3, 4, 5] [1, 2, 3, 4, 5]\n"
     ]
    }
   ],
   "source": [
    "print(a,b)"
   ]
  },
  {
   "cell_type": "code",
   "execution_count": 39,
   "id": "17a78a67",
   "metadata": {},
   "outputs": [],
   "source": [
    "# =을 이용해 복사한 요소는 동일한 지점을 가리키는 복사이다.\n",
    "a[0] = 10"
   ]
  },
  {
   "cell_type": "code",
   "execution_count": 40,
   "id": "86db777c",
   "metadata": {},
   "outputs": [
    {
     "data": {
      "text/plain": [
       "[10, 2, 3, 4, 5]"
      ]
     },
     "execution_count": 40,
     "metadata": {},
     "output_type": "execute_result"
    }
   ],
   "source": [
    "a"
   ]
  },
  {
   "cell_type": "code",
   "execution_count": 41,
   "id": "2ca4f877",
   "metadata": {},
   "outputs": [
    {
     "data": {
      "text/plain": [
       "[10, 2, 3, 4, 5]"
      ]
     },
     "execution_count": 41,
     "metadata": {},
     "output_type": "execute_result"
    }
   ],
   "source": [
    "b"
   ]
  },
  {
   "cell_type": "code",
   "execution_count": 42,
   "id": "5b3d7eb4",
   "metadata": {},
   "outputs": [],
   "source": [
    "# 2. .copy() 메서드로 복사하기\n",
    "c = a.copy()"
   ]
  },
  {
   "cell_type": "code",
   "execution_count": 43,
   "id": "ec78148c",
   "metadata": {},
   "outputs": [
    {
     "data": {
      "text/plain": [
       "[10, 2, 3, 4, 5]"
      ]
     },
     "execution_count": 43,
     "metadata": {},
     "output_type": "execute_result"
    }
   ],
   "source": [
    "c"
   ]
  },
  {
   "cell_type": "code",
   "execution_count": 44,
   "id": "5c499080",
   "metadata": {},
   "outputs": [
    {
     "name": "stdout",
     "output_type": "stream",
     "text": [
      "2997462957952 2997462957952\n",
      "2997462957952 2997462987328\n"
     ]
    }
   ],
   "source": [
    "# 파이썬에서는 id(자료)를 이용해 저장된 번지수 주소를 조회할 수 있다.\n",
    "print(id(a), id(b))\n",
    "print(id(a), id(c))"
   ]
  },
  {
   "cell_type": "code",
   "execution_count": 45,
   "id": "86c76e01",
   "metadata": {},
   "outputs": [
    {
     "name": "stdout",
     "output_type": "stream",
     "text": [
      "[10, 2, 20, 4, 5] [10, 2, 20, 4, 5] [10, 2, 3, 4, 5]\n"
     ]
    }
   ],
   "source": [
    "# a를 변경해도 c는 영향을 받지 않는다.\n",
    "a[2]=20\n",
    "print(a,b,c)"
   ]
  },
  {
   "cell_type": "code",
   "execution_count": 46,
   "id": "8a6da324",
   "metadata": {},
   "outputs": [],
   "source": [
    "# 3. list()로 복사하기\n",
    "# list(자료)를 넣으면 그 자료를 힙에 새롭게 할당해 리스트화한다.\n",
    "d = list(c)"
   ]
  },
  {
   "cell_type": "code",
   "execution_count": 47,
   "id": "6f911b45",
   "metadata": {},
   "outputs": [
    {
     "name": "stdout",
     "output_type": "stream",
     "text": [
      "[10, 2, 3, 4, 5] [10, 2, 3, 4, 5]\n"
     ]
    }
   ],
   "source": [
    "print(c,d)"
   ]
  },
  {
   "cell_type": "code",
   "execution_count": 49,
   "id": "0d255fd8",
   "metadata": {},
   "outputs": [
    {
     "name": "stdout",
     "output_type": "stream",
     "text": [
      "2997462987328 2997463014336\n"
     ]
    }
   ],
   "source": [
    "# 깊은복사 여부 확인\n",
    "print(id(c), id(d))"
   ]
  },
  {
   "cell_type": "code",
   "execution_count": 50,
   "id": "31c249a9",
   "metadata": {},
   "outputs": [
    {
     "name": "stdout",
     "output_type": "stream",
     "text": [
      "2997463014336 2997462212672\n"
     ]
    }
   ],
   "source": [
    "# 4. 슬라이싱으로 복사하기\n",
    "e = d[:]\n",
    "print(id(d), id(e))"
   ]
  },
  {
   "cell_type": "markdown",
   "id": "d6ff6981",
   "metadata": {},
   "source": [
    "### <<연습문제>>\n",
    "\n",
    "1. a 리스트를 이용하여 다음과 같은 문자열을 출력하시오.\n",
    "\n",
    "    a = ['Life', 'is', 'too', 'short', 'you', 'need', 'python']\n",
    "    \n",
    "    출력문 : you too"
   ]
  },
  {
   "cell_type": "code",
   "execution_count": 51,
   "id": "c17cb620",
   "metadata": {},
   "outputs": [],
   "source": [
    "a = ['Life', 'is', 'too', 'short', 'you', 'need', 'python']"
   ]
  },
  {
   "cell_type": "code",
   "execution_count": 52,
   "id": "1e4e5b32",
   "metadata": {},
   "outputs": [
    {
     "name": "stdout",
     "output_type": "stream",
     "text": [
      "you too\n"
     ]
    }
   ],
   "source": [
    "print(a[4], a[2])"
   ]
  },
  {
   "cell_type": "code",
   "execution_count": 53,
   "id": "a30637a6",
   "metadata": {},
   "outputs": [
    {
     "data": {
      "text/plain": [
       "7"
      ]
     },
     "execution_count": 53,
     "metadata": {},
     "output_type": "execute_result"
    }
   ],
   "source": [
    "# 리스트의 길이도 구하기\n",
    "len(a)"
   ]
  },
  {
   "cell_type": "markdown",
   "id": "33954693",
   "metadata": {},
   "source": [
    "a 리스트의 첫번째 아이템에 길이를 추가해주세요.,"
   ]
  },
  {
   "cell_type": "code",
   "execution_count": 55,
   "id": "c69e7610",
   "metadata": {},
   "outputs": [
    {
     "data": {
      "text/plain": [
       "[8, 7, 'Life', 'is', 'too', 'short', 'you', 'need', 'python']"
      ]
     },
     "execution_count": 55,
     "metadata": {},
     "output_type": "execute_result"
    }
   ],
   "source": [
    "a.insert(0, len(a))\n",
    "a"
   ]
  },
  {
   "cell_type": "markdown",
   "id": "4c3b5047",
   "metadata": {},
   "source": [
    "아래와 같이 크기 순서가 없는 리스트를 만들고 내림차순 정렬로 바꾸기\n",
    "    \n",
    "    [1, 4, 9, 2, 6, 10]\n",
    "    \n",
    "    (결과) [10, 9, 6, 4, 2, 1]"
   ]
  },
  {
   "cell_type": "code",
   "execution_count": 59,
   "id": "626c23d8",
   "metadata": {},
   "outputs": [
    {
     "data": {
      "text/plain": [
       "[1, 4, 9, 2, 6, 10]"
      ]
     },
     "execution_count": 59,
     "metadata": {},
     "output_type": "execute_result"
    }
   ],
   "source": [
    "b = [1, 4, 9, 2, 6, 10]\n",
    "b"
   ]
  },
  {
   "cell_type": "code",
   "execution_count": 60,
   "id": "f39d7f46",
   "metadata": {},
   "outputs": [],
   "source": [
    "b.sort()\n",
    "b.reverse()"
   ]
  },
  {
   "cell_type": "code",
   "execution_count": 61,
   "id": "df4ab415",
   "metadata": {},
   "outputs": [
    {
     "data": {
      "text/plain": [
       "[10, 9, 6, 4, 2, 1]"
      ]
     },
     "execution_count": 61,
     "metadata": {},
     "output_type": "execute_result"
    }
   ],
   "source": [
    "b"
   ]
  },
  {
   "cell_type": "markdown",
   "id": "b6866df3",
   "metadata": {},
   "source": [
    " 다음과 같은 아이템을 가지는 리스트를 만들고 아이템을 삭제해보세요.\n",
    " \n",
    "     [1, 2, 3, 4, 5, 6, 7, 8, 9, 10 ]\n",
    "     \n",
    "      (결과) [2, 4, 6, 8, 10]"
   ]
  },
  {
   "cell_type": "code",
   "execution_count": 62,
   "id": "d96bc2e3",
   "metadata": {},
   "outputs": [
    {
     "data": {
      "text/plain": [
       "[1, 2, 3, 4, 5, 6, 7, 8, 9, 10]"
      ]
     },
     "execution_count": 62,
     "metadata": {},
     "output_type": "execute_result"
    }
   ],
   "source": [
    "c= [1, 2, 3, 4, 5, 6, 7, 8, 9, 10 ]\n",
    "c"
   ]
  },
  {
   "cell_type": "code",
   "execution_count": 63,
   "id": "24553ae3",
   "metadata": {},
   "outputs": [],
   "source": [
    "del c[::2]"
   ]
  },
  {
   "cell_type": "code",
   "execution_count": 64,
   "id": "57797ecf",
   "metadata": {},
   "outputs": [
    {
     "data": {
      "text/plain": [
       "[2, 4, 6, 8, 10]"
      ]
     },
     "execution_count": 64,
     "metadata": {},
     "output_type": "execute_result"
    }
   ],
   "source": [
    "c"
   ]
  },
  {
   "cell_type": "markdown",
   "id": "061f0561",
   "metadata": {},
   "source": [
    "### 자료형 - Tuple\n",
    "\n",
    "- 생성 문법 기호 : ()\n",
    "- 아이템을 수정/삭제할 수 없기 때문에 실수로 데이터가 변경되거나 삭제되는 위험이 적다.\n",
    "- 객체를 저장하는데 더 적은 메모리를 사용한다.\n",
    "- dictionay 자료형의 key로 활용할 수 있다.\n",
    "- 함수의 인자는 tulpe 자료형으로 전달된다.\n",
    " "
   ]
  },
  {
   "cell_type": "markdown",
   "id": "ab7e1314",
   "metadata": {},
   "source": [
    "### 1. 생성하기"
   ]
  },
  {
   "cell_type": "code",
   "execution_count": 65,
   "id": "891dab2f",
   "metadata": {},
   "outputs": [
    {
     "data": {
      "text/plain": [
       "list"
      ]
     },
     "execution_count": 65,
     "metadata": {},
     "output_type": "execute_result"
    }
   ],
   "source": [
    "# 하나의 아이템을 가진 리스트\n",
    "a= [1]\n",
    "type(a)"
   ]
  },
  {
   "cell_type": "code",
   "execution_count": 68,
   "id": "ccba1586",
   "metadata": {},
   "outputs": [
    {
     "data": {
      "text/plain": [
       "tuple"
      ]
     },
     "execution_count": 68,
     "metadata": {},
     "output_type": "execute_result"
    }
   ],
   "source": [
    "# 문법기호 : 튜플은 ()를 이용해 생성하되 생략이 가능함. 단 쉼표는 무조건 1개이상 들어감\n",
    "tu = 1,2\n",
    "type(tu)"
   ]
  },
  {
   "cell_type": "code",
   "execution_count": 69,
   "id": "b8e48c29",
   "metadata": {},
   "outputs": [
    {
     "name": "stdout",
     "output_type": "stream",
     "text": [
      "<class 'list'> <class 'tuple'>\n"
     ]
    }
   ],
   "source": [
    "# tuple(리스트)로 처리하면 리스트를 튜플로 변환할 수 있다.\n",
    "b = tuple(a)\n",
    "print(type(a), type(b))"
   ]
  },
  {
   "cell_type": "code",
   "execution_count": 70,
   "id": "b9a28633",
   "metadata": {},
   "outputs": [
    {
     "data": {
      "text/plain": [
       "(1,)"
      ]
     },
     "execution_count": 70,
     "metadata": {},
     "output_type": "execute_result"
    }
   ],
   "source": [
    "b"
   ]
  },
  {
   "cell_type": "code",
   "execution_count": 71,
   "id": "8390ed78",
   "metadata": {},
   "outputs": [
    {
     "data": {
      "text/plain": [
       "(56, 78, 29, 100)"
      ]
     },
     "execution_count": 71,
     "metadata": {},
     "output_type": "execute_result"
    }
   ],
   "source": [
    "# 변수 하나에 여러 값을 대입하면 튜플로 간주된다.\n",
    "x = 56, 78, 29, 100\n",
    "x"
   ]
  },
  {
   "cell_type": "code",
   "execution_count": 72,
   "id": "770ec0ad",
   "metadata": {},
   "outputs": [
    {
     "name": "stdout",
     "output_type": "stream",
     "text": [
      "1 2 3\n"
     ]
    }
   ],
   "source": [
    "# 튜플 내부의 자료 개수만큼 변수를 대입해주면 하나씩 나눠서 값을 받는다.\n",
    "x1, x2, x3 = 1, 2, 3\n",
    "print(x1,x2,x3)"
   ]
  },
  {
   "cell_type": "markdown",
   "id": "8fc2819d",
   "metadata": {},
   "source": [
    "### 2. 인덱싱\n"
   ]
  },
  {
   "cell_type": "code",
   "execution_count": 73,
   "id": "99624b78",
   "metadata": {},
   "outputs": [
    {
     "data": {
      "text/plain": [
       "56"
      ]
     },
     "execution_count": 73,
     "metadata": {},
     "output_type": "execute_result"
    }
   ],
   "source": [
    "x[0]"
   ]
  },
  {
   "cell_type": "markdown",
   "id": "a6dab942",
   "metadata": {},
   "source": [
    "### 3. 슬라이싱"
   ]
  },
  {
   "cell_type": "code",
   "execution_count": 75,
   "id": "bd3ff676",
   "metadata": {},
   "outputs": [
    {
     "data": {
      "text/plain": [
       "(56, 78, 29)"
      ]
     },
     "execution_count": 75,
     "metadata": {},
     "output_type": "execute_result"
    }
   ],
   "source": [
    "x[:3]"
   ]
  },
  {
   "cell_type": "markdown",
   "id": "4d2d44d6",
   "metadata": {},
   "source": [
    "### 4. 튜플 연산자\n",
    "\n",
    "* 산술 연산자 : +, *"
   ]
  },
  {
   "cell_type": "code",
   "execution_count": 76,
   "id": "59da5b7a",
   "metadata": {},
   "outputs": [
    {
     "data": {
      "text/plain": [
       "(56, 78, 29, 100, 56, 78, 29, 100)"
      ]
     },
     "execution_count": 76,
     "metadata": {},
     "output_type": "execute_result"
    }
   ],
   "source": [
    "# 여러 개의 튜플 아이템을 합쳐서 새로운 튜플로 구성하기 : +\n",
    "x + x"
   ]
  },
  {
   "cell_type": "code",
   "execution_count": 77,
   "id": "527848c0",
   "metadata": {},
   "outputs": [
    {
     "data": {
      "text/plain": [
       "(56, 78, 29, 100, 56, 78, 29, 100, 56, 78, 29, 100, 56, 78, 29, 100)"
      ]
     },
     "execution_count": 77,
     "metadata": {},
     "output_type": "execute_result"
    }
   ],
   "source": [
    "# 한 개의 튜플을 반복해서 확장해서 새로운 튜플 만들기 : *\n",
    "x * 4"
   ]
  },
  {
   "cell_type": "markdown",
   "id": "a285fc43",
   "metadata": {},
   "source": [
    "### 5. 수정/삭제 할 수 없는 튜플"
   ]
  },
  {
   "cell_type": "code",
   "execution_count": 78,
   "id": "6e443ade",
   "metadata": {},
   "outputs": [
    {
     "ename": "TypeError",
     "evalue": "'tuple' object does not support item assignment",
     "output_type": "error",
     "traceback": [
      "\u001b[1;31m---------------------------------------------------------------------------\u001b[0m",
      "\u001b[1;31mTypeError\u001b[0m                                 Traceback (most recent call last)",
      "\u001b[1;32m~\\AppData\\Local\\Temp/ipykernel_77252/231634506.py\u001b[0m in \u001b[0;36m<module>\u001b[1;34m\u001b[0m\n\u001b[0;32m      1\u001b[0m \u001b[1;31m# 수정하기 -> 인덱싱으로 하나의 아이템에 접근해서 수정\u001b[0m\u001b[1;33m\u001b[0m\u001b[1;33m\u001b[0m\u001b[0m\n\u001b[1;32m----> 2\u001b[1;33m \u001b[0mx\u001b[0m\u001b[1;33m[\u001b[0m\u001b[1;36m0\u001b[0m\u001b[1;33m]\u001b[0m \u001b[1;33m=\u001b[0m \u001b[1;36m0\u001b[0m\u001b[1;33m\u001b[0m\u001b[1;33m\u001b[0m\u001b[0m\n\u001b[0m",
      "\u001b[1;31mTypeError\u001b[0m: 'tuple' object does not support item assignment"
     ]
    }
   ],
   "source": [
    "# 수정하기 -> 인덱싱으로 하나의 아이템에 접근해서 수정\n",
    "x[0] = 0"
   ]
  },
  {
   "cell_type": "code",
   "execution_count": 79,
   "id": "e227ece1",
   "metadata": {
    "scrolled": true
   },
   "outputs": [
    {
     "ename": "TypeError",
     "evalue": "'tuple' object doesn't support item deletion",
     "output_type": "error",
     "traceback": [
      "\u001b[1;31m---------------------------------------------------------------------------\u001b[0m",
      "\u001b[1;31mTypeError\u001b[0m                                 Traceback (most recent call last)",
      "\u001b[1;32m~\\AppData\\Local\\Temp/ipykernel_77252/3424381924.py\u001b[0m in \u001b[0;36m<module>\u001b[1;34m\u001b[0m\n\u001b[0;32m      1\u001b[0m \u001b[1;31m# 삭제하기 - del키워드 + 인덱싱\u001b[0m\u001b[1;33m\u001b[0m\u001b[1;33m\u001b[0m\u001b[0m\n\u001b[1;32m----> 2\u001b[1;33m \u001b[1;32mdel\u001b[0m \u001b[0mx\u001b[0m\u001b[1;33m[\u001b[0m\u001b[1;36m0\u001b[0m\u001b[1;33m]\u001b[0m\u001b[1;33m\u001b[0m\u001b[1;33m\u001b[0m\u001b[0m\n\u001b[0m",
      "\u001b[1;31mTypeError\u001b[0m: 'tuple' object doesn't support item deletion"
     ]
    }
   ],
   "source": [
    "# 삭제하기 - del키워드 + 인덱싱\n",
    "del x[0]"
   ]
  }
 ],
 "metadata": {
  "kernelspec": {
   "display_name": "Python 3 (ipykernel)",
   "language": "python",
   "name": "python3"
  },
  "language_info": {
   "codemirror_mode": {
    "name": "ipython",
    "version": 3
   },
   "file_extension": ".py",
   "mimetype": "text/x-python",
   "name": "python",
   "nbconvert_exporter": "python",
   "pygments_lexer": "ipython3",
   "version": "3.9.7"
  }
 },
 "nbformat": 4,
 "nbformat_minor": 5
}
